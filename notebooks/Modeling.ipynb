{
 "cells": [
  {
   "cell_type": "code",
   "execution_count": 1,
   "id": "e49bd07f",
   "metadata": {},
   "outputs": [
    {
     "name": "stdout",
     "output_type": "stream",
     "text": [
      "0.13.1\n",
      "1.8.4\n"
     ]
    }
   ],
   "source": [
    "#imports\n",
    "import pandas as pd\n",
    "import numpy as np\n",
    "import matplotlib.pyplot as plt\n",
    "from statsmodels.tsa.stattools import adfuller\n",
    "from statsmodels.tsa.api import VAR\n",
    "from statsmodels.graphics.tsaplots import plot_acf, plot_pacf\n",
    "from sklearn.model_selection import train_test_split\n",
    "import statsmodels.tsa.stattools as ts \n",
    "from statsmodels.tsa.stattools import grangercausalitytests\n",
    "from sklearn.preprocessing import StandardScaler\n",
    "from statsmodels.tsa.seasonal import seasonal_decompose\n",
    "from statsmodels.tsa.arima.model import ARIMA # Updated to use the new ARIMA implementation\n",
    "from statsmodels.tsa.statespace.sarimax import SARIMAX\n",
    "from pmdarima import auto_arima\n",
    "from sklearn.metrics import r2_score, mean_squared_error\n",
    "import statsmodels\n",
    "print(statsmodels.__version__)\n",
    "import pmdarima\n",
    "print(pmdarima.__version__)"
   ]
  },
  {
   "cell_type": "code",
   "execution_count": 2,
   "id": "4edea59a",
   "metadata": {},
   "outputs": [
    {
     "data": {
      "text/html": [
       "<div>\n",
       "<style scoped>\n",
       "    .dataframe tbody tr th:only-of-type {\n",
       "        vertical-align: middle;\n",
       "    }\n",
       "\n",
       "    .dataframe tbody tr th {\n",
       "        vertical-align: top;\n",
       "    }\n",
       "\n",
       "    .dataframe thead th {\n",
       "        text-align: right;\n",
       "    }\n",
       "</style>\n",
       "<table border=\"1\" class=\"dataframe\">\n",
       "  <thead>\n",
       "    <tr style=\"text-align: right;\">\n",
       "      <th></th>\n",
       "      <th>date</th>\n",
       "      <th>neg</th>\n",
       "      <th>neu</th>\n",
       "      <th>pos</th>\n",
       "      <th>compound</th>\n",
       "      <th>nominal</th>\n",
       "      <th>bdc</th>\n",
       "    </tr>\n",
       "  </thead>\n",
       "  <tbody>\n",
       "    <tr>\n",
       "      <th>0</th>\n",
       "      <td>2014-01-01</td>\n",
       "      <td>0.208167</td>\n",
       "      <td>0.720500</td>\n",
       "      <td>0.071167</td>\n",
       "      <td>-0.188100</td>\n",
       "      <td>157.26</td>\n",
       "      <td>172.0</td>\n",
       "    </tr>\n",
       "    <tr>\n",
       "      <th>1</th>\n",
       "      <td>2014-01-02</td>\n",
       "      <td>0.026113</td>\n",
       "      <td>0.944050</td>\n",
       "      <td>0.029843</td>\n",
       "      <td>0.015256</td>\n",
       "      <td>157.26</td>\n",
       "      <td>172.0</td>\n",
       "    </tr>\n",
       "    <tr>\n",
       "      <th>2</th>\n",
       "      <td>2014-01-03</td>\n",
       "      <td>0.140405</td>\n",
       "      <td>0.698167</td>\n",
       "      <td>0.161714</td>\n",
       "      <td>0.046255</td>\n",
       "      <td>157.26</td>\n",
       "      <td>172.0</td>\n",
       "    </tr>\n",
       "    <tr>\n",
       "      <th>3</th>\n",
       "      <td>2014-01-04</td>\n",
       "      <td>0.130111</td>\n",
       "      <td>0.797444</td>\n",
       "      <td>0.072444</td>\n",
       "      <td>-0.154944</td>\n",
       "      <td>157.26</td>\n",
       "      <td>172.0</td>\n",
       "    </tr>\n",
       "    <tr>\n",
       "      <th>4</th>\n",
       "      <td>2014-01-05</td>\n",
       "      <td>0.074286</td>\n",
       "      <td>0.763714</td>\n",
       "      <td>0.162000</td>\n",
       "      <td>0.167800</td>\n",
       "      <td>157.26</td>\n",
       "      <td>172.0</td>\n",
       "    </tr>\n",
       "  </tbody>\n",
       "</table>\n",
       "</div>"
      ],
      "text/plain": [
       "         date       neg       neu       pos  compound  nominal    bdc\n",
       "0  2014-01-01  0.208167  0.720500  0.071167 -0.188100   157.26  172.0\n",
       "1  2014-01-02  0.026113  0.944050  0.029843  0.015256   157.26  172.0\n",
       "2  2014-01-03  0.140405  0.698167  0.161714  0.046255   157.26  172.0\n",
       "3  2014-01-04  0.130111  0.797444  0.072444 -0.154944   157.26  172.0\n",
       "4  2014-01-05  0.074286  0.763714  0.162000  0.167800   157.26  172.0"
      ]
     },
     "metadata": {},
     "output_type": "display_data"
    },
    {
     "data": {
      "text/plain": [
       "(2527, 7)"
      ]
     },
     "metadata": {},
     "output_type": "display_data"
    }
   ],
   "source": [
    "#read in data\n",
    "df = pd.read_csv('data/final_df.csv')\n",
    "display(df.head())\n",
    "display(df.shape)"
   ]
  },
  {
   "cell_type": "code",
   "execution_count": 3,
   "id": "5edd0f6e",
   "metadata": {},
   "outputs": [],
   "source": [
    "#creating column for change in exchange rate\n",
    "df['bdc_change']= df['bdc'].pct_change()"
   ]
  },
  {
   "cell_type": "code",
   "execution_count": 4,
   "id": "a8470c7b",
   "metadata": {},
   "outputs": [
    {
     "data": {
      "text/plain": [
       "date          0\n",
       "neg           0\n",
       "neu           0\n",
       "pos           0\n",
       "compound      0\n",
       "nominal       0\n",
       "bdc           0\n",
       "bdc_change    1\n",
       "dtype: int64"
      ]
     },
     "execution_count": 4,
     "metadata": {},
     "output_type": "execute_result"
    }
   ],
   "source": [
    "#confirm there are no nulls\n",
    "df.isnull().sum()"
   ]
  },
  {
   "cell_type": "code",
   "execution_count": 5,
   "id": "dc8b1b68",
   "metadata": {},
   "outputs": [
    {
     "data": {
      "text/plain": [
       "date          0\n",
       "neg           0\n",
       "neu           0\n",
       "pos           0\n",
       "compound      0\n",
       "nominal       0\n",
       "bdc           0\n",
       "bdc_change    0\n",
       "dtype: int64"
      ]
     },
     "execution_count": 5,
     "metadata": {},
     "output_type": "execute_result"
    }
   ],
   "source": [
    "#dropping null\n",
    "df.dropna(inplace= True)\n",
    "df.isnull().sum()"
   ]
  },
  {
   "cell_type": "markdown",
   "id": "5b2b383f",
   "metadata": {},
   "source": [
    "## Testing for Stationarity"
   ]
  },
  {
   "cell_type": "code",
   "execution_count": 6,
   "id": "a2aef9d5",
   "metadata": {},
   "outputs": [
    {
     "data": {
      "text/plain": [
       "<AxesSubplot:>"
      ]
     },
     "execution_count": 6,
     "metadata": {},
     "output_type": "execute_result"
    },
    {
     "data": {
      "image/png": "[encoded data removed]",
      "text/plain": [
       "<Figure size 432x288 with 1 Axes>"
      ]
     },
     "metadata": {
      "needs_background": "light"
     },
     "output_type": "display_data"
    }
   ],
   "source": [
    "#visualize data\n",
    "df[['compound','neu','neg','pos']].plot()"
   ]
  },
  {
   "cell_type": "markdown",
   "id": "2ff357f3",
   "metadata": {},
   "source": [
    "By vizualization, data on sentiment scores appear to be stationary. However, we can confirm with ADF test."
   ]
  },
  {
   "cell_type": "code",
   "execution_count": 7,
   "id": "b95734e6",
   "metadata": {},
   "outputs": [],
   "source": [
    "# Code written by Joseph Nelson.\n",
    "def interpret_dftest(dftest):\n",
    "    dfoutput = pd.Series(dftest[0:2], index=['Test Statistic','p-value'])\n",
    "    return dfoutput"
   ]
  },
  {
   "cell_type": "code",
   "execution_count": 8,
   "id": "959dda2c",
   "metadata": {},
   "outputs": [
    {
     "data": {
      "text/plain": [
       "Test Statistic   -4.691887\n",
       "p-value           0.000087\n",
       "dtype: float64"
      ]
     },
     "execution_count": 8,
     "metadata": {},
     "output_type": "execute_result"
    }
   ],
   "source": [
    "#applying function to column\n",
    "interpret_dftest(adfuller(df['compound']))"
   ]
  },
  {
   "cell_type": "markdown",
   "id": "d402cdcc",
   "metadata": {},
   "source": [
    "The p value is significant at 1%, 5% and 10% levels of significance, hence we fail to reject the hypothesis that the series is stationary."
   ]
  },
  {
   "cell_type": "code",
   "execution_count": 9,
   "id": "8963279b",
   "metadata": {},
   "outputs": [
    {
     "data": {
      "text/plain": [
       "Test Statistic   -1.364261e+01\n",
       "p-value           1.642208e-25\n",
       "dtype: float64"
      ]
     },
     "execution_count": 9,
     "metadata": {},
     "output_type": "execute_result"
    }
   ],
   "source": [
    "#applying function to column\n",
    "interpret_dftest(adfuller(df['neg']))"
   ]
  },
  {
   "cell_type": "markdown",
   "id": "0ac16cc5",
   "metadata": {},
   "source": [
    "The p value is significant at 1%, 5% and 10% levels of significance, hence we fail to reject the hypothesis that the series is stationary."
   ]
  },
  {
   "cell_type": "code",
   "execution_count": 10,
   "id": "d3a7fb71",
   "metadata": {},
   "outputs": [
    {
     "data": {
      "text/plain": [
       "Test Statistic   -3.206704\n",
       "p-value           0.019600\n",
       "dtype: float64"
      ]
     },
     "execution_count": 10,
     "metadata": {},
     "output_type": "execute_result"
    }
   ],
   "source": [
    "#applying function to column\n",
    "interpret_dftest(adfuller(df['pos']))"
   ]
  },
  {
   "cell_type": "markdown",
   "id": "571f98da",
   "metadata": {},
   "source": [
    "The p value is significant at 1%, 5% and 10% levels of significance, hence we fail to reject the hypothesis that the series is stationary."
   ]
  },
  {
   "cell_type": "code",
   "execution_count": 11,
   "id": "633a9e97",
   "metadata": {},
   "outputs": [
    {
     "data": {
      "text/plain": [
       "<AxesSubplot:>"
      ]
     },
     "execution_count": 11,
     "metadata": {},
     "output_type": "execute_result"
    },
    {
     "data": {
      "image/png": "[encoded data removed]",
      "text/plain": [
       "<Figure size 432x288 with 1 Axes>"
      ]
     },
     "metadata": {
      "needs_background": "light"
     },
     "output_type": "display_data"
    }
   ],
   "source": [
    "df['bdc_change'].plot()"
   ]
  },
  {
   "cell_type": "markdown",
   "id": "2c0bbe44",
   "metadata": {},
   "source": [
    "By vizualization, the series appears to the stationary. However, we can confirm with ADF test."
   ]
  },
  {
   "cell_type": "code",
   "execution_count": 12,
   "id": "ea8068ab",
   "metadata": {},
   "outputs": [
    {
     "data": {
      "text/plain": [
       "Test Statistic   -20.291628\n",
       "p-value            0.000000\n",
       "dtype: float64"
      ]
     },
     "execution_count": 12,
     "metadata": {},
     "output_type": "execute_result"
    }
   ],
   "source": [
    "interpret_dftest(adfuller(df['bdc_change']))"
   ]
  },
  {
   "cell_type": "markdown",
   "id": "9f361273",
   "metadata": {},
   "source": [
    "The p value is significant at 1%, 5% and 10% levels of significance, hence we fail to reject the hypothesis that the series is stationary."
   ]
  },
  {
   "cell_type": "code",
   "execution_count": 13,
   "id": "575520c3",
   "metadata": {},
   "outputs": [
    {
     "data": {
      "text/plain": [
       "<AxesSubplot:>"
      ]
     },
     "execution_count": 13,
     "metadata": {},
     "output_type": "execute_result"
    },
    {
     "data": {
      "image/png": "[encoded data removed]",
      "text/plain": [
       "<Figure size 432x288 with 1 Axes>"
      ]
     },
     "metadata": {
      "needs_background": "light"
     },
     "output_type": "display_data"
    }
   ],
   "source": [
    "df['bdc'].plot()"
   ]
  },
  {
   "cell_type": "markdown",
   "id": "c650b1fe",
   "metadata": {},
   "source": [
    "There appears to be a trend in the series. However, we can confirm with ADF test."
   ]
  },
  {
   "cell_type": "code",
   "execution_count": 14,
   "id": "27c26e8d",
   "metadata": {},
   "outputs": [
    {
     "data": {
      "text/plain": [
       "Test Statistic   -1.023894\n",
       "p-value           0.744450\n",
       "dtype: float64"
      ]
     },
     "execution_count": 14,
     "metadata": {},
     "output_type": "execute_result"
    }
   ],
   "source": [
    "#applying function to column\n",
    "interpret_dftest(adfuller(df['bdc']))"
   ]
  },
  {
   "cell_type": "markdown",
   "id": "e9bd32bc",
   "metadata": {},
   "source": [
    "The p value is not significant at 1%, 5% and 10% levels of significance, hence we reject the hypothesis that the series is stationary."
   ]
  },
  {
   "cell_type": "code",
   "execution_count": 15,
   "id": "5effde38",
   "metadata": {},
   "outputs": [],
   "source": [
    "df['first_diff_bdc'] = df['bdc'].diff(1)"
   ]
  },
  {
   "cell_type": "code",
   "execution_count": 16,
   "id": "dfcc0a72",
   "metadata": {},
   "outputs": [
    {
     "data": {
      "text/plain": [
       "Test Statistic   -20.165323\n",
       "p-value            0.000000\n",
       "dtype: float64"
      ]
     },
     "execution_count": 16,
     "metadata": {},
     "output_type": "execute_result"
    }
   ],
   "source": [
    "interpret_dftest(adfuller(df['first_diff_bdc'].dropna()))"
   ]
  },
  {
   "cell_type": "markdown",
   "id": "7c9a54fb",
   "metadata": {},
   "source": [
    "The p value is significant at 1%, 5% and 10% levels of significance, hence we can conclude that the series is stationary at first difference."
   ]
  },
  {
   "cell_type": "markdown",
   "id": "708ee145",
   "metadata": {},
   "source": [
    "## Preprocessing"
   ]
  },
  {
   "cell_type": "code",
   "execution_count": 17,
   "id": "8cc66970",
   "metadata": {},
   "outputs": [],
   "source": [
    "#creating lagged versions of sentiment scores\n",
    "df['compound_lag_1'] = df['compound'].shift(1)\n",
    "df['compound_lag_2'] = df['compound'].shift(2)\n",
    "df['compound_lag_3'] = df['compound'].shift(3)"
   ]
  },
  {
   "cell_type": "code",
   "execution_count": 18,
   "id": "2e65f876",
   "metadata": {},
   "outputs": [],
   "source": [
    "#creating lagged versions of sentiment scores\n",
    "df['pos_lag_1'] = df['pos'].shift(1)\n",
    "df['pos_lag_2'] = df['pos'].shift(2)\n",
    "df['pos_lag_3'] = df['pos'].shift(3)"
   ]
  },
  {
   "cell_type": "code",
   "execution_count": 19,
   "id": "56be23f0",
   "metadata": {},
   "outputs": [],
   "source": [
    "#creating lagged versions of sentiment scores\n",
    "df['neg_lag_1'] = df['neg'].shift(1)\n",
    "df['neg_lag_2'] = df['neg'].shift(2)\n",
    "df['neg_lag_3'] = df['neg'].shift(3)"
   ]
  },
  {
   "cell_type": "code",
   "execution_count": 20,
   "id": "fabdd7b1",
   "metadata": {},
   "outputs": [],
   "source": [
    "#dropping nulls\n",
    "df.dropna(inplace= True)"
   ]
  },
  {
   "cell_type": "code",
   "execution_count": 21,
   "id": "74c686f5",
   "metadata": {},
   "outputs": [
    {
     "data": {
      "text/plain": [
       "(2523, 18)"
      ]
     },
     "execution_count": 21,
     "metadata": {},
     "output_type": "execute_result"
    }
   ],
   "source": [
    "df.shape"
   ]
  },
  {
   "cell_type": "code",
   "execution_count": 22,
   "id": "ab740e41",
   "metadata": {},
   "outputs": [],
   "source": [
    "#setting date column as datetime index\n",
    "df['date'] = pd.to_datetime(df['date'])\n",
    "df.set_index('date', inplace = True)"
   ]
  },
  {
   "cell_type": "code",
   "execution_count": 23,
   "id": "87fa5025",
   "metadata": {},
   "outputs": [],
   "source": [
    "#splitting into train & test sets. This will be used for VAR model.\n",
    "df_train, df_test = train_test_split(df[['bdc_change','compound', 'pos', 'neg']], \n",
    "                                     shuffle = False, random_state = 42)"
   ]
  },
  {
   "cell_type": "code",
   "execution_count": 24,
   "id": "60dd117a",
   "metadata": {},
   "outputs": [
    {
     "data": {
      "text/plain": [
       "((1892, 4), (631, 4))"
      ]
     },
     "execution_count": 24,
     "metadata": {},
     "output_type": "execute_result"
    }
   ],
   "source": [
    "#confirming shape\n",
    "df_train.shape, df_test.shape"
   ]
  },
  {
   "cell_type": "code",
   "execution_count": 25,
   "id": "468a9320",
   "metadata": {},
   "outputs": [],
   "source": [
    "#defining X and y variables \n",
    "X = df[['compound_lag_1', 'pos_lag_1', 'neg_lag_1']]\n",
    "y = df['bdc_change']"
   ]
  },
  {
   "cell_type": "code",
   "execution_count": 26,
   "id": "fad29b47",
   "metadata": {},
   "outputs": [],
   "source": [
    "#Splitting X & y into train and test sets. This will be used for SARIMAX & ARDL models.\n",
    "train_size=int(len(df) *0.75)\n",
    "test_size = int(len(df)) - train_size\n",
    "train_X, train_y = X[:train_size].dropna(), y[:train_size].dropna()\n",
    "test_X, test_y = X[train_size:].dropna(), y[train_size:].dropna()"
   ]
  },
  {
   "cell_type": "code",
   "execution_count": 27,
   "id": "eaec971b",
   "metadata": {},
   "outputs": [
    {
     "data": {
      "text/plain": [
       "((1892, 3), (1892,), (631, 3), (631,))"
      ]
     },
     "execution_count": 27,
     "metadata": {},
     "output_type": "execute_result"
    }
   ],
   "source": [
    "#confirming dimensions\n",
    "train_X.shape, train_y.shape, test_X.shape, test_y.shape"
   ]
  },
  {
   "cell_type": "markdown",
   "id": "6535f558",
   "metadata": {},
   "source": [
    "## VAR Model"
   ]
  },
  {
   "cell_type": "code",
   "execution_count": 28,
   "id": "7a36b97e",
   "metadata": {},
   "outputs": [
    {
     "name": "stderr",
     "output_type": "stream",
     "text": [
      "/Users/nnenna/opt/anaconda3/lib/python3.8/site-packages/statsmodels/tsa/base/tsa_model.py:536: ValueWarning: No frequency information was provided, so inferred frequency D will be used.\n",
      "  warnings.warn('No frequency information was'\n"
     ]
    },
    {
     "name": "stdout",
     "output_type": "stream",
     "text": [
      "Lag Order = 1\n",
      "AIC :  -26.431353147312524\n",
      "BIC :  -26.37270839777621\n",
      "FPE :  3.3190148863243643e-12\n",
      "HQIC:  -26.409758928838624 \n",
      "\n",
      "Lag Order = 2\n",
      "AIC :  -26.483703827769954\n",
      "BIC :  -26.378097501902264\n",
      "FPE :  3.149732649649207e-12\n",
      "HQIC:  -26.444816339496853 \n",
      "\n",
      "Lag Order = 3\n",
      "AIC :  -26.5300154725177\n",
      "BIC :  -26.377406817615594\n",
      "FPE :  3.007191277130124e-12\n",
      "HQIC:  -26.473818782707376 \n",
      "\n",
      "Lag Order = 4\n",
      "AIC :  -26.537629446179597\n",
      "BIC :  -26.337977651912663\n",
      "FPE :  2.9843847646037495e-12\n",
      "HQIC:  -26.4641075999191 \n",
      "\n",
      "Lag Order = 5\n",
      "AIC :  -26.549762153818122\n",
      "BIC :  -26.3030263521165\n",
      "FPE :  2.948399963156604e-12\n",
      "HQIC:  -26.458899172973698 \n",
      "\n",
      "Lag Order = 6\n",
      "AIC :  -26.560430899185143\n",
      "BIC :  -26.266570164127167\n",
      "FPE :  2.917118833835319e-12\n",
      "HQIC:  -26.452210782356246 \n",
      "\n",
      "Lag Order = 7\n",
      "AIC :  -26.563180457601668\n",
      "BIC :  -26.22215380530123\n",
      "FPE :  2.909119243528872e-12\n",
      "HQIC:  -26.43758718007485 \n",
      "\n",
      "Lag Order = 8\n",
      "AIC :  -26.564166755963345\n",
      "BIC :  -26.17593314445698\n",
      "FPE :  2.9062648305305386e-12\n",
      "HQIC:  -26.421184269666036 \n",
      "\n",
      "Lag Order = 9\n",
      "AIC :  -26.566976150022857\n",
      "BIC :  -26.131494479156547\n",
      "FPE :  2.89812855220735e-12\n",
      "HQIC:  -26.406588383477033 \n",
      "\n",
      "Lag Order = 10\n",
      "AIC :  -26.558943398694346\n",
      "BIC :  -26.076172510010057\n",
      "FPE :  2.9215237041028126e-12\n",
      "HQIC:  -26.381134256970068 \n",
      "\n",
      "Lag Order = 11\n",
      "AIC :  -26.560860811680936\n",
      "BIC :  -26.030759488302845\n",
      "FPE :  2.915953388121675e-12\n",
      "HQIC:  -26.365614176349784 \n",
      "\n",
      "Lag Order = 12\n",
      "AIC :  -26.558361155517535\n",
      "BIC :  -25.980888122038014\n",
      "FPE :  2.9232826938100128e-12\n",
      "HQIC:  -26.345660884605927 \n",
      "\n",
      "Lag Order = 13\n",
      "AIC :  -26.556791314232193\n",
      "BIC :  -25.931905236597462\n",
      "FPE :  2.927912388362167e-12\n",
      "HQIC:  -26.326621242174564 \n",
      "\n",
      "Lag Order = 14\n",
      "AIC :  -26.547523664430212\n",
      "BIC :  -25.875183149825766\n",
      "FPE :  2.9552169108350715e-12\n",
      "HQIC:  -26.29986760202212 \n",
      "\n",
      "Lag Order = 15\n",
      "AIC :  -26.538683549217087\n",
      "BIC :  -25.818847145952777\n",
      "FPE :  2.9815078282049034e-12\n",
      "HQIC:  -26.273525283568137 \n",
      "\n"
     ]
    }
   ],
   "source": [
    "#decide the order (P) of VAR model i.e. decide which lag is best to fit the model\n",
    "model = VAR(df_train)\n",
    "for i in [1,2,3,4,5,6,7,8,9,10,11,12,13,14,15]:\n",
    "    result = model.fit(i)\n",
    "    print('Lag Order =', i)\n",
    "    print('AIC : ', result.aic)\n",
    "    print('BIC : ', result.bic)\n",
    "    print('FPE : ', result.fpe)\n",
    "    print('HQIC: ', result.hqic, '\\n')"
   ]
  },
  {
   "cell_type": "markdown",
   "id": "1d3d6f43",
   "metadata": {},
   "source": [
    "Lag order 9 is preferred as this is the order at which the AIC is lowest."
   ]
  },
  {
   "cell_type": "code",
   "execution_count": 29,
   "id": "93143626",
   "metadata": {},
   "outputs": [
    {
     "data": {
      "text/plain": [
       "<statsmodels.tsa.vector_ar.var_model.LagOrderResults at 0x7fc55f0fe790>"
      ]
     },
     "execution_count": 29,
     "metadata": {},
     "output_type": "execute_result"
    }
   ],
   "source": [
    "#select preferred lag order\n",
    "model.select_order(9)"
   ]
  },
  {
   "cell_type": "code",
   "execution_count": 30,
   "id": "e6c0c395",
   "metadata": {},
   "outputs": [
    {
     "data": {
      "text/plain": [
       "  Summary of Regression Results   \n",
       "==================================\n",
       "Model:                         VAR\n",
       "Method:                        OLS\n",
       "Date:           Thu, 23, Dec, 2021\n",
       "Time:                     21:23:33\n",
       "--------------------------------------------------------------------\n",
       "No. of Equations:         4.00000    BIC:                   -26.1315\n",
       "Nobs:                     1883.00    HQIC:                  -26.4066\n",
       "Log likelihood:           14473.4    FPE:                2.89813e-12\n",
       "AIC:                     -26.5670    Det(Omega_mle):     2.68111e-12\n",
       "--------------------------------------------------------------------\n",
       "Results for equation bdc_change\n",
       "================================================================================\n",
       "                   coefficient       std. error           t-stat            prob\n",
       "--------------------------------------------------------------------------------\n",
       "const                -0.000225         0.000923           -0.244           0.807\n",
       "L1.bdc_change        -0.034357         0.023284           -1.476           0.140\n",
       "L1.compound          -0.000304         0.003847           -0.079           0.937\n",
       "L1.pos               -0.005714         0.007973           -0.717           0.474\n",
       "L1.neg                0.010392         0.009574            1.085           0.278\n",
       "L2.bdc_change        -0.015522         0.023327           -0.665           0.506\n",
       "L2.compound           0.001495         0.003910            0.382           0.702\n",
       "L2.pos               -0.000151         0.008147           -0.018           0.985\n",
       "L2.neg                0.007254         0.009954            0.729           0.466\n",
       "L3.bdc_change         0.075070         0.023316            3.220           0.001\n",
       "L3.compound           0.001127         0.003914            0.288           0.773\n",
       "L3.pos               -0.000997         0.008144           -0.122           0.903\n",
       "L3.neg                0.004767         0.009981            0.478           0.633\n",
       "L4.bdc_change         0.034184         0.023390            1.461           0.144\n",
       "L4.compound          -0.003865         0.003918           -0.987           0.324\n",
       "L4.pos                0.010333         0.008162            1.266           0.206\n",
       "L4.neg               -0.008581         0.009973           -0.860           0.390\n",
       "L5.bdc_change         0.042627         0.023365            1.824           0.068\n",
       "L5.compound          -0.004448         0.003910           -1.138           0.255\n",
       "L5.pos                0.016280         0.008150            1.998           0.046\n",
       "L5.neg               -0.000536         0.009956           -0.054           0.957\n",
       "L6.bdc_change        -0.007143         0.023369           -0.306           0.760\n",
       "L6.compound           0.004350         0.003911            1.112           0.266\n",
       "L6.pos               -0.008099         0.008148           -0.994           0.320\n",
       "L6.neg                0.010957         0.009952            1.101           0.271\n",
       "L7.bdc_change        -0.019581         0.023311           -0.840           0.401\n",
       "L7.compound           0.000608         0.003913            0.155           0.877\n",
       "L7.pos               -0.006259         0.008153           -0.768           0.443\n",
       "L7.neg               -0.003969         0.009947           -0.399           0.690\n",
       "L8.bdc_change         0.011555         0.023346            0.495           0.621\n",
       "L8.compound           0.003073         0.003917            0.785           0.433\n",
       "L8.pos               -0.009917         0.008161           -1.215           0.224\n",
       "L8.neg                0.001456         0.009940            0.146           0.884\n",
       "L9.bdc_change        -0.017030         0.023329           -0.730           0.465\n",
       "L9.compound           0.000423         0.003843            0.110           0.912\n",
       "L9.pos               -0.001102         0.007954           -0.139           0.890\n",
       "L9.neg               -0.005065         0.009549           -0.530           0.596\n",
       "================================================================================\n",
       "\n",
       "Results for equation compound\n",
       "================================================================================\n",
       "                   coefficient       std. error           t-stat            prob\n",
       "--------------------------------------------------------------------------------\n",
       "const                -0.005440         0.013585           -0.400           0.689\n",
       "L1.bdc_change        -0.692928         0.342534           -2.023           0.043\n",
       "L1.compound           0.142253         0.056588            2.514           0.012\n",
       "L1.pos                0.315473         0.117286            2.690           0.007\n",
       "L1.neg               -0.172026         0.140852           -1.221           0.222\n",
       "L2.bdc_change        -0.347008         0.343176           -1.011           0.312\n",
       "L2.compound           0.032810         0.057523            0.570           0.568\n",
       "L2.pos               -0.045335         0.119855           -0.378           0.705\n",
       "L2.neg               -0.058171         0.146443           -0.397           0.691\n",
       "L3.bdc_change        -0.617757         0.343002           -1.801           0.072\n",
       "L3.compound           0.042813         0.057587            0.743           0.457\n",
       "L3.pos                0.105258         0.119809            0.879           0.380\n",
       "L3.neg                0.144923         0.146838            0.987           0.324\n",
       "L4.bdc_change         0.177839         0.344094            0.517           0.605\n",
       "L4.compound           0.097254         0.057638            1.687           0.092\n",
       "L4.pos               -0.056613         0.120076           -0.471           0.637\n",
       "L4.neg                0.225092         0.146711            1.534           0.125\n",
       "L5.bdc_change        -0.450098         0.343730           -1.309           0.190\n",
       "L5.compound           0.045834         0.057519            0.797           0.426\n",
       "L5.pos               -0.025385         0.119890           -0.212           0.832\n",
       "L5.neg               -0.000342         0.146468           -0.002           0.998\n",
       "L6.bdc_change        -0.215972         0.343786           -0.628           0.530\n",
       "L6.compound           0.080947         0.057531            1.407           0.159\n",
       "L6.pos               -0.072319         0.119873           -0.603           0.546\n",
       "L6.neg                0.132628         0.146412            0.906           0.365\n",
       "L7.bdc_change        -0.443188         0.342933           -1.292           0.196\n",
       "L7.compound           0.006597         0.057569            0.115           0.909\n",
       "L7.pos                0.067430         0.119941            0.562           0.574\n",
       "L7.neg                0.206195         0.146330            1.409           0.159\n",
       "L8.bdc_change         0.687724         0.343452            2.002           0.045\n",
       "L8.compound           0.089924         0.057617            1.561           0.119\n",
       "L8.pos               -0.111908         0.120062           -0.932           0.351\n",
       "L8.neg                0.008175         0.146226            0.056           0.955\n",
       "L9.bdc_change         0.264646         0.343203            0.771           0.441\n",
       "L9.compound           0.165608         0.056539            2.929           0.003\n",
       "L9.pos               -0.065191         0.117017           -0.557           0.577\n",
       "L9.neg                0.379209         0.140480            2.699           0.007\n",
       "================================================================================\n",
       "\n",
       "Results for equation pos\n",
       "================================================================================\n",
       "                   coefficient       std. error           t-stat            prob\n",
       "--------------------------------------------------------------------------------\n",
       "const                 0.013648         0.004923            2.772           0.006\n",
       "L1.bdc_change        -0.031285         0.124125           -0.252           0.801\n",
       "L1.compound           0.011700         0.020506            0.571           0.568\n",
       "L1.pos                0.302564         0.042501            7.119           0.000\n",
       "L1.neg                0.006784         0.051041            0.133           0.894\n",
       "L2.bdc_change        -0.039889         0.124358           -0.321           0.748\n",
       "L2.compound           0.029090         0.020845            1.396           0.163\n",
       "L2.pos               -0.007817         0.043432           -0.180           0.857\n",
       "L2.neg                0.065232         0.053067            1.229           0.219\n",
       "L3.bdc_change        -0.206527         0.124295           -1.662           0.097\n",
       "L3.compound          -0.004454         0.020868           -0.213           0.831\n",
       "L3.pos                0.126517         0.043416            2.914           0.004\n",
       "L3.neg                0.024571         0.053210            0.462           0.644\n",
       "L4.bdc_change         0.031678         0.124690            0.254           0.799\n",
       "L4.compound           0.009740         0.020887            0.466           0.641\n",
       "L4.pos                0.033952         0.043512            0.780           0.435\n",
       "L4.neg                0.049976         0.053164            0.940           0.347\n",
       "L5.bdc_change        -0.194701         0.124559           -1.563           0.118\n",
       "L5.compound           0.001234         0.020843            0.059           0.953\n",
       "L5.pos                0.010544         0.043445            0.243           0.808\n",
       "L5.neg                0.030344         0.053076            0.572           0.568\n",
       "L6.bdc_change         0.006671         0.124579            0.054           0.957\n",
       "L6.compound           0.000532         0.020848            0.026           0.980\n",
       "L6.pos                0.074488         0.043439            1.715           0.086\n",
       "L6.neg                0.028332         0.053056            0.534           0.593\n",
       "L7.bdc_change         0.078170         0.124270            0.629           0.529\n",
       "L7.compound           0.009593         0.020861            0.460           0.646\n",
       "L7.pos                0.029346         0.043463            0.675           0.500\n",
       "L7.neg                0.072280         0.053026            1.363           0.173\n",
       "L8.bdc_change         0.226490         0.124458            1.820           0.069\n",
       "L8.compound           0.006553         0.020879            0.314           0.754\n",
       "L8.pos                0.041539         0.043507            0.955           0.340\n",
       "L8.neg               -0.029273         0.052988           -0.552           0.581\n",
       "L9.bdc_change         0.152504         0.124367            1.226           0.220\n",
       "L9.compound           0.015628         0.020488            0.763           0.446\n",
       "L9.pos                0.069212         0.042404            1.632           0.103\n",
       "L9.neg                0.065683         0.050906            1.290           0.197\n",
       "================================================================================\n",
       "\n",
       "Results for equation neg\n",
       "================================================================================\n",
       "                   coefficient       std. error           t-stat            prob\n",
       "--------------------------------------------------------------------------------\n",
       "const                 0.020601         0.003785            5.443           0.000\n",
       "L1.bdc_change         0.168857         0.095434            1.769           0.077\n",
       "L1.compound           0.030967         0.015766            1.964           0.050\n",
       "L1.pos               -0.046551         0.032677           -1.425           0.154\n",
       "L1.neg                0.338446         0.039243            8.624           0.000\n",
       "L2.bdc_change         0.114123         0.095613            1.194           0.233\n",
       "L2.compound           0.033077         0.016027            2.064           0.039\n",
       "L2.pos               -0.031172         0.033393           -0.933           0.351\n",
       "L2.neg                0.132799         0.040801            3.255           0.001\n",
       "L3.bdc_change         0.136440         0.095564            1.428           0.153\n",
       "L3.compound           0.001946         0.016044            0.121           0.903\n",
       "L3.pos                0.016277         0.033380            0.488           0.626\n",
       "L3.neg                0.007628         0.040911            0.186           0.852\n",
       "L4.bdc_change         0.009561         0.095868            0.100           0.921\n",
       "L4.compound          -0.012901         0.016059           -0.803           0.422\n",
       "L4.pos                0.008998         0.033455            0.269           0.788\n",
       "L4.neg               -0.022788         0.040875           -0.558           0.577\n",
       "L5.bdc_change         0.055469         0.095767            0.579           0.562\n",
       "L5.compound           0.005512         0.016025            0.344           0.731\n",
       "L5.pos                0.008950         0.033403            0.268           0.789\n",
       "L5.neg                0.050415         0.040808            1.235           0.217\n",
       "L6.bdc_change         0.102989         0.095783            1.075           0.282\n",
       "L6.compound          -0.027618         0.016029           -1.723           0.085\n",
       "L6.pos                0.088789         0.033398            2.658           0.008\n",
       "L6.neg               -0.008077         0.040792           -0.198           0.843\n",
       "L7.bdc_change         0.191510         0.095545            2.004           0.045\n",
       "L7.compound           0.026831         0.016039            1.673           0.094\n",
       "L7.pos               -0.053033         0.033417           -1.587           0.113\n",
       "L7.neg                0.025516         0.040769            0.626           0.531\n",
       "L8.bdc_change        -0.109693         0.095690           -1.146           0.252\n",
       "L8.compound          -0.012683         0.016053           -0.790           0.429\n",
       "L8.pos                0.032829         0.033451            0.981           0.326\n",
       "L8.neg                0.007135         0.040740            0.175           0.861\n",
       "L9.bdc_change         0.001425         0.095620            0.015           0.988\n",
       "L9.compound          -0.021593         0.015753           -1.371           0.170\n",
       "L9.pos                0.003114         0.032602            0.096           0.924\n",
       "L9.neg               -0.040698         0.039139           -1.040           0.298\n",
       "================================================================================\n",
       "\n",
       "Correlation matrix of residuals\n",
       "              bdc_change  compound       pos       neg\n",
       "bdc_change      1.000000 -0.032550 -0.041267  0.014728\n",
       "compound       -0.032550  1.000000  0.736052 -0.678312\n",
       "pos            -0.041267  0.736052  1.000000 -0.204621\n",
       "neg             0.014728 -0.678312 -0.204621  1.000000\n",
       "\n"
      ]
     },
     "execution_count": 30,
     "metadata": {},
     "output_type": "execute_result"
    }
   ],
   "source": [
    "#fit model\n",
    "results = model.fit(maxlags = 9, ic = 'aic')\n",
    "results.summary()"
   ]
  },
  {
   "cell_type": "code",
   "execution_count": 31,
   "id": "fa340a99",
   "metadata": {},
   "outputs": [
    {
     "name": "stdout",
     "output_type": "stream",
     "text": [
      "bdc_change : 2.0\n",
      "compound : 2.0\n",
      "pos : 2.01\n",
      "neg : 2.0\n"
     ]
    }
   ],
   "source": [
    "#checking for the presence of autocorrelation\n",
    "from statsmodels.stats.stattools import durbin_watson\n",
    "\n",
    "out = durbin_watson(results.resid)\n",
    "\n",
    "for col, val in zip(df_train.columns, out):\n",
    "    print(col, ':', round(val, 2))"
   ]
  },
  {
   "cell_type": "markdown",
   "id": "f934d2c8",
   "metadata": {},
   "source": [
    "Durbin watson statistic is approximately 2. Hence we can conclude that there is no autocorrelation in the model i.e. no significant correlation between the residuals of the explanatory variables."
   ]
  },
  {
   "cell_type": "code",
   "execution_count": 32,
   "id": "055d09da",
   "metadata": {},
   "outputs": [
    {
     "name": "stdout",
     "output_type": "stream",
     "text": [
      "9\n"
     ]
    },
    {
     "name": "stderr",
     "output_type": "stream",
     "text": [
      "/Users/nnenna/opt/anaconda3/lib/python3.8/site-packages/statsmodels/tsa/base/tsa_model.py:536: ValueWarning: No frequency information was provided, so inferred frequency D will be used.\n",
      "  warnings.warn('No frequency information was'\n"
     ]
    }
   ],
   "source": [
    "#fit preferred VAR model\n",
    "model = VAR(df_train)\n",
    "model_fitted = model.fit(9)\n",
    "\n",
    "#get lag order\n",
    "lag_order = model_fitted.k_ar\n",
    "print(lag_order)"
   ]
  },
  {
   "cell_type": "code",
   "execution_count": 33,
   "id": "4bf7d8d2",
   "metadata": {},
   "outputs": [
    {
     "data": {
      "text/html": [
       "<div>\n",
       "<style scoped>\n",
       "    .dataframe tbody tr th:only-of-type {\n",
       "        vertical-align: middle;\n",
       "    }\n",
       "\n",
       "    .dataframe tbody tr th {\n",
       "        vertical-align: top;\n",
       "    }\n",
       "\n",
       "    .dataframe thead th {\n",
       "        text-align: right;\n",
       "    }\n",
       "</style>\n",
       "<table border=\"1\" class=\"dataframe\">\n",
       "  <thead>\n",
       "    <tr style=\"text-align: right;\">\n",
       "      <th></th>\n",
       "      <th>bdc_change_x</th>\n",
       "      <th>compound_x</th>\n",
       "      <th>pos_x</th>\n",
       "      <th>neg_x</th>\n",
       "    </tr>\n",
       "  </thead>\n",
       "  <tbody>\n",
       "    <tr>\n",
       "      <th>bdc_change_y</th>\n",
       "      <td>1.0000</td>\n",
       "      <td>0.0221</td>\n",
       "      <td>0.2052</td>\n",
       "      <td>0.0046</td>\n",
       "    </tr>\n",
       "    <tr>\n",
       "      <th>compound_y</th>\n",
       "      <td>0.0587</td>\n",
       "      <td>1.0000</td>\n",
       "      <td>0.0000</td>\n",
       "      <td>0.0000</td>\n",
       "    </tr>\n",
       "    <tr>\n",
       "      <th>pos_y</th>\n",
       "      <td>0.2817</td>\n",
       "      <td>0.1668</td>\n",
       "      <td>1.0000</td>\n",
       "      <td>0.0001</td>\n",
       "    </tr>\n",
       "    <tr>\n",
       "      <th>neg_y</th>\n",
       "      <td>0.0338</td>\n",
       "      <td>0.0000</td>\n",
       "      <td>0.0004</td>\n",
       "      <td>1.0000</td>\n",
       "    </tr>\n",
       "  </tbody>\n",
       "</table>\n",
       "</div>"
      ],
      "text/plain": [
       "              bdc_change_x  compound_x   pos_x   neg_x\n",
       "bdc_change_y        1.0000      0.0221  0.2052  0.0046\n",
       "compound_y          0.0587      1.0000  0.0000  0.0000\n",
       "pos_y               0.2817      0.1668  1.0000  0.0001\n",
       "neg_y               0.0338      0.0000  0.0004  1.0000"
      ]
     },
     "execution_count": 33,
     "metadata": {},
     "output_type": "execute_result"
    }
   ],
   "source": [
    "maxlag=lag_order #becuase we got this value before. We are not suppose to add 1 to it\n",
    "test = 'ssr_chi2test'\n",
    "\n",
    "def grangers_causation_matrix(data, variables, test='ssr_chi2test', verbose=False): \n",
    "    \n",
    "    \"\"\"Check Granger Causality of all possible combinations of the Time series.\n",
    "    The rows are the response variable, columns are predictors. The values in the table \n",
    "    are the P-Values. P-Values lesser than the significance level (0.05), implies \n",
    "    the Null Hypothesis that the coefficients of the corresponding past values is \n",
    "    zero, that is, the X does not cause Y can be rejected.\n",
    "\n",
    "    data      : pandas dataframe containing the time series variables\n",
    "    variables : list containing names of the time series variables.\n",
    "    \"\"\"\n",
    "    df = pd.DataFrame(np.zeros((len(variables), len(variables))), columns=variables, index=variables)\n",
    "    for c in df.columns:\n",
    "        for r in df.index:\n",
    "            test_result = grangercausalitytests(data[[r, c]], maxlag=maxlag, verbose=False)\n",
    "            p_values = [round(test_result[i+1][0][test][1],4) for i in range(maxlag)]\n",
    "            if verbose: print(f'Y = {r}, X = {c}, P Values = {p_values}')\n",
    "            min_p_value = np.min(p_values)\n",
    "            df.loc[r, c] = min_p_value\n",
    "    df.columns = [var + '_x' for var in variables]\n",
    "    df.index = [var + '_y' for var in variables]\n",
    "    return df\n",
    "\n",
    "grangers_causation_matrix(df_train, variables = df_train.columns)  \n",
    "#reference: https://rishi-a.github.io/2020/05/25/granger-causality.html"
   ]
  },
  {
   "cell_type": "markdown",
   "id": "c1722ddb",
   "metadata": {},
   "source": [
    "If a given p value is significant, then the corresponding X series (column) causes the response Y series (row). \n",
    "\n",
    "The above result shows bi-directional causality running from the rate of change of the exchange rate to negative and compound sentiment scores and vice versa. There appears to be no causal relationship between the rate of change in exchange rate, and positive sentiment scores in the period studied."
   ]
  },
  {
   "cell_type": "markdown",
   "id": "a53767b8",
   "metadata": {},
   "source": [
    "## Forecasting - SARIMAX Model"
   ]
  },
  {
   "cell_type": "code",
   "execution_count": 34,
   "id": "4a5e7943",
   "metadata": {},
   "outputs": [],
   "source": [
    "decomposed_result = seasonal_decompose(df.compound, model = \"additive\", period = 1)"
   ]
  },
  {
   "cell_type": "code",
   "execution_count": 35,
   "id": "372105b9",
   "metadata": {},
   "outputs": [
    {
     "data": {
      "image/png": "[encoded data removed]",
      "text/plain": [
       "<Figure size 432x288 with 4 Axes>"
      ]
     },
     "metadata": {
      "needs_background": "light"
     },
     "output_type": "display_data"
    }
   ],
   "source": [
    "# plot decomposition\n",
    "decomposed_result.plot();"
   ]
  },
  {
   "cell_type": "markdown",
   "id": "174c1af3",
   "metadata": {},
   "source": [
    "We can infer from the plot above that there is no seasonality in the model."
   ]
  },
  {
   "cell_type": "code",
   "execution_count": 36,
   "id": "640644ef",
   "metadata": {},
   "outputs": [
    {
     "name": "stdout",
     "output_type": "stream",
     "text": [
      "Performing stepwise search to minimize aic\n",
      " ARIMA(0,0,0)(0,0,0)[0]             : AIC=-11832.379, Time=0.68 sec\n",
      " ARIMA(1,0,0)(0,0,0)[0]             : AIC=-11831.946, Time=0.68 sec\n",
      " ARIMA(0,0,1)(0,0,0)[0]             : AIC=-11831.993, Time=0.84 sec\n",
      " ARIMA(1,0,1)(0,0,0)[0]             : AIC=-11828.521, Time=1.65 sec\n",
      " ARIMA(0,0,0)(0,0,0)[0] intercept   : AIC=-11830.383, Time=0.28 sec\n",
      "\n",
      "Best model:  ARIMA(0,0,0)(0,0,0)[0]          \n",
      "Total fit time: 4.140 seconds\n"
     ]
    }
   ],
   "source": [
    "#instantiate auto arima to determine optimal parameters for SARIMAX model\n",
    "\n",
    "sarimax = auto_arima(\n",
    "    train_y, \n",
    "    exogenous = train_X, \n",
    "    start_p = 0,\n",
    "    start_q = 0,\n",
    "    max_p = 3,\n",
    "    max_q = 3,\n",
    "    d = 0, \n",
    "    seasonal = False, \n",
    "    trace=True,\n",
    "    error_action='ignore',  \n",
    "    suppress_warnings=True  \n",
    ")"
   ]
  },
  {
   "cell_type": "code",
   "execution_count": 37,
   "id": "b1166c27",
   "metadata": {},
   "outputs": [
    {
     "data": {
      "text/plain": [
       "((1892, 3), (1892,))"
      ]
     },
     "execution_count": 37,
     "metadata": {},
     "output_type": "execute_result"
    }
   ],
   "source": [
    "train_X.shape, train_y.shape"
   ]
  },
  {
   "cell_type": "code",
   "execution_count": 38,
   "id": "b4b9b8f1",
   "metadata": {},
   "outputs": [
    {
     "name": "stderr",
     "output_type": "stream",
     "text": [
      "/Users/nnenna/opt/anaconda3/lib/python3.8/site-packages/statsmodels/tsa/base/tsa_model.py:536: ValueWarning: No frequency information was provided, so inferred frequency D will be used.\n",
      "  warnings.warn('No frequency information was'\n"
     ]
    }
   ],
   "source": [
    "order = (0, 0, 0)\n",
    "\n",
    "# instantiate\n",
    "sarimax = SARIMAX(\n",
    "    train_y,\n",
    "    train_X, \n",
    "    order = order, \n",
    "    freq = \"D\",\n",
    "    enforce_stationarity = False,\n",
    ")\n",
    "\n",
    "fitted_sarimax = sarimax.fit(maxiter = 10_000, method = \"powell\", disp = 0) "
   ]
  },
  {
   "cell_type": "code",
   "execution_count": 39,
   "id": "dc916688",
   "metadata": {},
   "outputs": [
    {
     "data": {
      "text/html": [
       "<table class=\"simpletable\">\n",
       "<caption>SARIMAX Results</caption>\n",
       "<tr>\n",
       "  <th>Dep. Variable:</th>      <td>bdc_change</td>    <th>  No. Observations:  </th>    <td>1892</td>   \n",
       "</tr>\n",
       "<tr>\n",
       "  <th>Model:</th>                <td>SARIMAX</td>     <th>  Log Likelihood     </th>  <td>5916.573</td> \n",
       "</tr>\n",
       "<tr>\n",
       "  <th>Date:</th>            <td>Thu, 23 Dec 2021</td> <th>  AIC                </th> <td>-11825.146</td>\n",
       "</tr>\n",
       "<tr>\n",
       "  <th>Time:</th>                <td>21:23:39</td>     <th>  BIC                </th> <td>-11802.967</td>\n",
       "</tr>\n",
       "<tr>\n",
       "  <th>Sample:</th>             <td>01-05-2014</td>    <th>  HQIC               </th> <td>-11816.979</td>\n",
       "</tr>\n",
       "<tr>\n",
       "  <th></th>                   <td>- 03-11-2019</td>   <th>                     </th>      <td> </td>    \n",
       "</tr>\n",
       "<tr>\n",
       "  <th>Covariance Type:</th>        <td>opg</td>       <th>                     </th>      <td> </td>    \n",
       "</tr>\n",
       "</table>\n",
       "<table class=\"simpletable\">\n",
       "<tr>\n",
       "         <td></td>           <th>coef</th>     <th>std err</th>      <th>z</th>      <th>P>|z|</th>  <th>[0.025</th>    <th>0.975]</th>  \n",
       "</tr>\n",
       "<tr>\n",
       "  <th>compound_lag_1</th> <td>    0.0005</td> <td>    0.005</td> <td>    0.103</td> <td> 0.918</td> <td>   -0.010</td> <td>    0.011</td>\n",
       "</tr>\n",
       "<tr>\n",
       "  <th>pos_lag_1</th>      <td>   -0.0040</td> <td>    0.010</td> <td>   -0.399</td> <td> 0.690</td> <td>   -0.023</td> <td>    0.016</td>\n",
       "</tr>\n",
       "<tr>\n",
       "  <th>neg_lag_1</th>      <td>    0.0156</td> <td>    0.010</td> <td>    1.571</td> <td> 0.116</td> <td>   -0.004</td> <td>    0.035</td>\n",
       "</tr>\n",
       "<tr>\n",
       "  <th>sigma2</th>         <td>    0.0001</td> <td> 5.08e-07</td> <td>  220.610</td> <td> 0.000</td> <td>    0.000</td> <td>    0.000</td>\n",
       "</tr>\n",
       "</table>\n",
       "<table class=\"simpletable\">\n",
       "<tr>\n",
       "  <th>Ljung-Box (L1) (Q):</th>     <td>1.57</td> <th>  Jarque-Bera (JB):  </th> <td>2070963.38</td>\n",
       "</tr>\n",
       "<tr>\n",
       "  <th>Prob(Q):</th>                <td>0.21</td> <th>  Prob(JB):          </th>    <td>0.00</td>   \n",
       "</tr>\n",
       "<tr>\n",
       "  <th>Heteroskedasticity (H):</th> <td>0.03</td> <th>  Skew:              </th>    <td>2.84</td>   \n",
       "</tr>\n",
       "<tr>\n",
       "  <th>Prob(H) (two-sided):</th>    <td>0.00</td> <th>  Kurtosis:          </th>   <td>165.02</td>  \n",
       "</tr>\n",
       "</table><br/><br/>Warnings:<br/>[1] Covariance matrix calculated using the outer product of gradients (complex-step)."
      ],
      "text/plain": [
       "<class 'statsmodels.iolib.summary.Summary'>\n",
       "\"\"\"\n",
       "                               SARIMAX Results                                \n",
       "==============================================================================\n",
       "Dep. Variable:             bdc_change   No. Observations:                 1892\n",
       "Model:                        SARIMAX   Log Likelihood                5916.573\n",
       "Date:                Thu, 23 Dec 2021   AIC                         -11825.146\n",
       "Time:                        21:23:39   BIC                         -11802.967\n",
       "Sample:                    01-05-2014   HQIC                        -11816.979\n",
       "                         - 03-11-2019                                         \n",
       "Covariance Type:                  opg                                         \n",
       "==================================================================================\n",
       "                     coef    std err          z      P>|z|      [0.025      0.975]\n",
       "----------------------------------------------------------------------------------\n",
       "compound_lag_1     0.0005      0.005      0.103      0.918      -0.010       0.011\n",
       "pos_lag_1         -0.0040      0.010     -0.399      0.690      -0.023       0.016\n",
       "neg_lag_1          0.0156      0.010      1.571      0.116      -0.004       0.035\n",
       "sigma2             0.0001   5.08e-07    220.610      0.000       0.000       0.000\n",
       "===================================================================================\n",
       "Ljung-Box (L1) (Q):                   1.57   Jarque-Bera (JB):           2070963.38\n",
       "Prob(Q):                              0.21   Prob(JB):                         0.00\n",
       "Heteroskedasticity (H):               0.03   Skew:                             2.84\n",
       "Prob(H) (two-sided):                  0.00   Kurtosis:                       165.02\n",
       "===================================================================================\n",
       "\n",
       "Warnings:\n",
       "[1] Covariance matrix calculated using the outer product of gradients (complex-step).\n",
       "\"\"\""
      ]
     },
     "execution_count": 39,
     "metadata": {},
     "output_type": "execute_result"
    }
   ],
   "source": [
    "# check model summary\n",
    "fitted_sarimax.summary()"
   ]
  },
  {
   "cell_type": "markdown",
   "id": "17636162",
   "metadata": {},
   "source": [
    "### Predictions"
   ]
  },
  {
   "cell_type": "code",
   "execution_count": 40,
   "id": "b05952dc",
   "metadata": {},
   "outputs": [],
   "source": [
    "forecast_sarimax= fitted_sarimax.forecast(steps=test_size, exog=test_X)"
   ]
  },
  {
   "cell_type": "code",
   "execution_count": 41,
   "id": "7678e3ef",
   "metadata": {},
   "outputs": [
    {
     "data": {
      "text/plain": [
       "<AxesSubplot:>"
      ]
     },
     "execution_count": 41,
     "metadata": {},
     "output_type": "execute_result"
    },
    {
     "data": {
      "image/png": "[encoded data removed]",
      "text/plain": [
       "<Figure size 432x288 with 1 Axes>"
      ]
     },
     "metadata": {
      "needs_background": "light"
     },
     "output_type": "display_data"
    }
   ],
   "source": [
    "preds_df= pd.DataFrame(forecast_sarimax)\n",
    "preds_df['predicted_mean'].plot()"
   ]
  },
  {
   "cell_type": "code",
   "execution_count": 42,
   "id": "add90fd8",
   "metadata": {},
   "outputs": [],
   "source": [
    "# Set up the orders\n",
    "order          = (0,0,0)\n",
    "\n",
    "# storing new test predictions, the history, and confidence intervals\n",
    "sarimax_preds = []\n",
    "history = train_y.values\n",
    "conf_ints = []\n",
    "\n",
    "# for each test observation...\n",
    "for val in test_y:\n",
    "    # create model\n",
    "    sarima = SARIMAX(history, order = order, enforce_stationarity = False)\n",
    "    # fit\n",
    "    fitted_sarimax = sarima.fit(method = \"powell\", maxiter = 10_000, disp = 0) # stop excessive ouput with disp = 0\n",
    "    # make next out-of-sample prediction\n",
    "    pred_obj = fitted_sarimax.get_forecast(steps = 1)\n",
    "    # add to preds and conf_ints\n",
    "    sarimax_preds.append(pred_obj.predicted_mean)\n",
    "    conf_ints.append(pred_obj.conf_int()[0])\n",
    "\n",
    "    # add TRUTH to history for next training\n",
    "    history = np.append(history, val)"
   ]
  },
  {
   "cell_type": "code",
   "execution_count": 43,
   "id": "f7d7c196",
   "metadata": {},
   "outputs": [
    {
     "data": {
      "text/plain": [
       "(631,)"
      ]
     },
     "execution_count": 43,
     "metadata": {},
     "output_type": "execute_result"
    }
   ],
   "source": [
    "test_y.shape"
   ]
  },
  {
   "cell_type": "code",
   "execution_count": 44,
   "id": "eaf73cdc",
   "metadata": {},
   "outputs": [],
   "source": [
    "# setting up info for visualization\n",
    "new_test_preds = pd.Series(sarimax_preds, index = test_y.index)\n",
    "\n",
    "# converting list to numpy array for convenience\n",
    "lower_conf_int = np.array(conf_ints)[:,0]\n",
    "upper_conf_int = np.array(conf_ints)[:,1]"
   ]
  },
  {
   "cell_type": "code",
   "execution_count": 45,
   "id": "1879c7fd",
   "metadata": {},
   "outputs": [],
   "source": [
    "#function to plot preds\n",
    "\n",
    "def plot_SARIMA_predictions(y_train, y_test = None, train_preds = None, test_preds = None, lower_conf_int = None, upper_conf_int = None, title = \"Title\", ylabel = \"{y_label}\",xlabel = \"Data\"):\n",
    "    plt.figure(figsize=(12,5))\n",
    "    plt.title(title)\n",
    "\n",
    "    # train data\n",
    "    plt.plot(y_train.index, y_train, lw=1, color='purple', ls='solid', label='Train Data')\n",
    "\n",
    "    # train prediction\n",
    "    if train_preds is not None:\n",
    "        plt.plot(train_preds.index, train_preds, lw=1, color='green', ls='dashed', label='Training Predictions')\n",
    "\n",
    "    # test data\n",
    "    if y_test is not None:\n",
    "        plt.plot(y_test.index, y_test, lw=1, color='blue', ls='solid',label='Test Data')\n",
    "\n",
    "    # test predictions\n",
    "    if test_preds is not None:\n",
    "        plt.plot(test_preds.index, test_preds, lw=1, color='red', ls='dashed',label='Testing Predictions')\n",
    "\n",
    "    #  labels\n",
    "    plt.xlabel(xlabel)\n",
    "    plt.ylabel(ylabel)\n",
    "\n",
    "    # confidence intervals\n",
    "    if lower_conf_int is not None and upper_conf_int is not None:\n",
    "        plt.fill_between(y_test.index, lower_conf_int, upper_conf_int, color='k', alpha=0.1,  label =\"95% conf. int.\");\n",
    "    # legend\n",
    "    plt.legend(loc = \"upper left\");\n",
    "    \n",
    "#credit: GA DSI-927 course material"
   ]
  },
  {
   "cell_type": "code",
   "execution_count": 46,
   "id": "7334b4bc",
   "metadata": {},
   "outputs": [
    {
     "data": {
      "image/png": "[encoded data removed]",
      "text/plain": [
       "<Figure size 864x360 with 1 Axes>"
      ]
     },
     "metadata": {
      "needs_background": "light"
     },
     "output_type": "display_data"
    }
   ],
   "source": [
    "# plotting Multi-Step Out-of-Sample Forecasting\n",
    "plot_SARIMA_predictions(\n",
    "    train_y, \n",
    "    test_y,\n",
    "    test_preds = new_test_preds,\n",
    "    lower_conf_int = lower_conf_int,\n",
    "    upper_conf_int = upper_conf_int,\n",
    "    title = \"Average Change in BDC Exchange Rate using Multi-Step Out-of-Sample Forecasting\",\n",
    "    ylabel = \"Average Change\"\n",
    ")\n",
    "plt.savefig('images/Average Change in BDC Exchange Rate using Multi-Step Out-of-Sample Forecasting')"
   ]
  },
  {
   "cell_type": "code",
   "execution_count": 47,
   "id": "068cf42d",
   "metadata": {},
   "outputs": [
    {
     "name": "stdout",
     "output_type": "stream",
     "text": [
      "-0.007212789517453189\n",
      "3.8664210909177175e-05\n"
     ]
    }
   ],
   "source": [
    "# Evaluating Multi-Step Out-of-Sample Forecasting \n",
    "print(r2_score(test_y, new_test_preds))\n",
    "print(mean_squared_error(test_y, new_test_preds))"
   ]
  },
  {
   "cell_type": "markdown",
   "id": "6bd17c43",
   "metadata": {},
   "source": [
    "The accuracy score and mean squared error were negligible. The model did not do a good job of churning out accurate forecasts."
   ]
  },
  {
   "cell_type": "markdown",
   "id": "f799bc6c",
   "metadata": {},
   "source": [
    "## ARDL Model\n",
    "Reference: https://www.statsmodels.org/devel/examples/notebooks/generated/autoregressive_distributed_lag.html"
   ]
  },
  {
   "cell_type": "code",
   "execution_count": 48,
   "id": "669d22a5",
   "metadata": {},
   "outputs": [],
   "source": [
    "from statsmodels.tsa.api import ARDL\n",
    "from statsmodels.tsa.ardl import ardl_select_order\n",
    "from statsmodels.tsa.api import UECM"
   ]
  },
  {
   "cell_type": "code",
   "execution_count": 49,
   "id": "2620f0e3",
   "metadata": {},
   "outputs": [
    {
     "data": {
      "text/html": [
       "<div>\n",
       "<style scoped>\n",
       "    .dataframe tbody tr th:only-of-type {\n",
       "        vertical-align: middle;\n",
       "    }\n",
       "\n",
       "    .dataframe tbody tr th {\n",
       "        vertical-align: top;\n",
       "    }\n",
       "\n",
       "    .dataframe thead th {\n",
       "        text-align: right;\n",
       "    }\n",
       "</style>\n",
       "<table border=\"1\" class=\"dataframe\">\n",
       "  <thead>\n",
       "    <tr style=\"text-align: right;\">\n",
       "      <th></th>\n",
       "      <th>neg</th>\n",
       "      <th>neu</th>\n",
       "      <th>pos</th>\n",
       "      <th>compound</th>\n",
       "      <th>nominal</th>\n",
       "      <th>bdc</th>\n",
       "      <th>bdc_change</th>\n",
       "      <th>first_diff_bdc</th>\n",
       "      <th>compound_lag_1</th>\n",
       "      <th>compound_lag_2</th>\n",
       "      <th>compound_lag_3</th>\n",
       "      <th>pos_lag_1</th>\n",
       "      <th>pos_lag_2</th>\n",
       "      <th>pos_lag_3</th>\n",
       "      <th>neg_lag_1</th>\n",
       "      <th>neg_lag_2</th>\n",
       "      <th>neg_lag_3</th>\n",
       "    </tr>\n",
       "    <tr>\n",
       "      <th>date</th>\n",
       "      <th></th>\n",
       "      <th></th>\n",
       "      <th></th>\n",
       "      <th></th>\n",
       "      <th></th>\n",
       "      <th></th>\n",
       "      <th></th>\n",
       "      <th></th>\n",
       "      <th></th>\n",
       "      <th></th>\n",
       "      <th></th>\n",
       "      <th></th>\n",
       "      <th></th>\n",
       "      <th></th>\n",
       "      <th></th>\n",
       "      <th></th>\n",
       "      <th></th>\n",
       "    </tr>\n",
       "  </thead>\n",
       "  <tbody>\n",
       "    <tr>\n",
       "      <th>2014-01-05</th>\n",
       "      <td>0.074286</td>\n",
       "      <td>0.763714</td>\n",
       "      <td>0.162000</td>\n",
       "      <td>0.167800</td>\n",
       "      <td>157.26</td>\n",
       "      <td>172.0</td>\n",
       "      <td>0.0</td>\n",
       "      <td>0.0</td>\n",
       "      <td>-0.154944</td>\n",
       "      <td>0.046255</td>\n",
       "      <td>0.015256</td>\n",
       "      <td>0.072444</td>\n",
       "      <td>0.161714</td>\n",
       "      <td>0.029843</td>\n",
       "      <td>0.130111</td>\n",
       "      <td>0.140405</td>\n",
       "      <td>0.026113</td>\n",
       "    </tr>\n",
       "    <tr>\n",
       "      <th>2014-01-06</th>\n",
       "      <td>0.115700</td>\n",
       "      <td>0.813500</td>\n",
       "      <td>0.070900</td>\n",
       "      <td>-0.083350</td>\n",
       "      <td>157.28</td>\n",
       "      <td>172.0</td>\n",
       "      <td>0.0</td>\n",
       "      <td>0.0</td>\n",
       "      <td>0.167800</td>\n",
       "      <td>-0.154944</td>\n",
       "      <td>0.046255</td>\n",
       "      <td>0.162000</td>\n",
       "      <td>0.072444</td>\n",
       "      <td>0.161714</td>\n",
       "      <td>0.074286</td>\n",
       "      <td>0.130111</td>\n",
       "      <td>0.140405</td>\n",
       "    </tr>\n",
       "    <tr>\n",
       "      <th>2014-01-07</th>\n",
       "      <td>0.083586</td>\n",
       "      <td>0.735793</td>\n",
       "      <td>0.180621</td>\n",
       "      <td>0.218283</td>\n",
       "      <td>157.28</td>\n",
       "      <td>172.0</td>\n",
       "      <td>0.0</td>\n",
       "      <td>0.0</td>\n",
       "      <td>-0.083350</td>\n",
       "      <td>0.167800</td>\n",
       "      <td>-0.154944</td>\n",
       "      <td>0.070900</td>\n",
       "      <td>0.162000</td>\n",
       "      <td>0.072444</td>\n",
       "      <td>0.115700</td>\n",
       "      <td>0.074286</td>\n",
       "      <td>0.130111</td>\n",
       "    </tr>\n",
       "    <tr>\n",
       "      <th>2014-01-08</th>\n",
       "      <td>0.130800</td>\n",
       "      <td>0.756343</td>\n",
       "      <td>0.112943</td>\n",
       "      <td>-0.010109</td>\n",
       "      <td>157.28</td>\n",
       "      <td>172.0</td>\n",
       "      <td>0.0</td>\n",
       "      <td>0.0</td>\n",
       "      <td>0.218283</td>\n",
       "      <td>-0.083350</td>\n",
       "      <td>0.167800</td>\n",
       "      <td>0.180621</td>\n",
       "      <td>0.070900</td>\n",
       "      <td>0.162000</td>\n",
       "      <td>0.083586</td>\n",
       "      <td>0.115700</td>\n",
       "      <td>0.074286</td>\n",
       "    </tr>\n",
       "    <tr>\n",
       "      <th>2014-01-09</th>\n",
       "      <td>0.023250</td>\n",
       "      <td>0.884500</td>\n",
       "      <td>0.092167</td>\n",
       "      <td>0.168783</td>\n",
       "      <td>157.28</td>\n",
       "      <td>172.0</td>\n",
       "      <td>0.0</td>\n",
       "      <td>0.0</td>\n",
       "      <td>-0.010109</td>\n",
       "      <td>0.218283</td>\n",
       "      <td>-0.083350</td>\n",
       "      <td>0.112943</td>\n",
       "      <td>0.180621</td>\n",
       "      <td>0.070900</td>\n",
       "      <td>0.130800</td>\n",
       "      <td>0.083586</td>\n",
       "      <td>0.115700</td>\n",
       "    </tr>\n",
       "  </tbody>\n",
       "</table>\n",
       "</div>"
      ],
      "text/plain": [
       "                 neg       neu       pos  compound  nominal    bdc  \\\n",
       "date                                                                 \n",
       "2014-01-05  0.074286  0.763714  0.162000  0.167800   157.26  172.0   \n",
       "2014-01-06  0.115700  0.813500  0.070900 -0.083350   157.28  172.0   \n",
       "2014-01-07  0.083586  0.735793  0.180621  0.218283   157.28  172.0   \n",
       "2014-01-08  0.130800  0.756343  0.112943 -0.010109   157.28  172.0   \n",
       "2014-01-09  0.023250  0.884500  0.092167  0.168783   157.28  172.0   \n",
       "\n",
       "            bdc_change  first_diff_bdc  compound_lag_1  compound_lag_2  \\\n",
       "date                                                                     \n",
       "2014-01-05         0.0             0.0       -0.154944        0.046255   \n",
       "2014-01-06         0.0             0.0        0.167800       -0.154944   \n",
       "2014-01-07         0.0             0.0       -0.083350        0.167800   \n",
       "2014-01-08         0.0             0.0        0.218283       -0.083350   \n",
       "2014-01-09         0.0             0.0       -0.010109        0.218283   \n",
       "\n",
       "            compound_lag_3  pos_lag_1  pos_lag_2  pos_lag_3  neg_lag_1  \\\n",
       "date                                                                     \n",
       "2014-01-05        0.015256   0.072444   0.161714   0.029843   0.130111   \n",
       "2014-01-06        0.046255   0.162000   0.072444   0.161714   0.074286   \n",
       "2014-01-07       -0.154944   0.070900   0.162000   0.072444   0.115700   \n",
       "2014-01-08        0.167800   0.180621   0.070900   0.162000   0.083586   \n",
       "2014-01-09       -0.083350   0.112943   0.180621   0.070900   0.130800   \n",
       "\n",
       "            neg_lag_2  neg_lag_3  \n",
       "date                              \n",
       "2014-01-05   0.140405   0.026113  \n",
       "2014-01-06   0.130111   0.140405  \n",
       "2014-01-07   0.074286   0.130111  \n",
       "2014-01-08   0.115700   0.074286  \n",
       "2014-01-09   0.083586   0.115700  "
      ]
     },
     "execution_count": 49,
     "metadata": {},
     "output_type": "execute_result"
    }
   ],
   "source": [
    "df.head()"
   ]
  },
  {
   "cell_type": "code",
   "execution_count": 50,
   "id": "2718bcc1",
   "metadata": {},
   "outputs": [
    {
     "name": "stderr",
     "output_type": "stream",
     "text": [
      "/Users/nnenna/opt/anaconda3/lib/python3.8/site-packages/statsmodels/tsa/base/tsa_model.py:593: ValueWarning: A date index has been provided, but it has no associated frequency information and so will be ignored when e.g. forecasting.\n",
      "  warnings.warn('A date index has been provided, but it has no'\n"
     ]
    },
    {
     "name": "stdout",
     "output_type": "stream",
     "text": [
      "The optimal order is: (3, 1, 0)\n"
     ]
    },
    {
     "name": "stderr",
     "output_type": "stream",
     "text": [
      "/Users/nnenna/opt/anaconda3/lib/python3.8/site-packages/statsmodels/tsa/base/tsa_model.py:593: ValueWarning: A date index has been provided, but it has no associated frequency information and so will be ignored when e.g. forecasting.\n",
      "  warnings.warn('A date index has been provided, but it has no'\n"
     ]
    }
   ],
   "source": [
    "#get optimal ardl order\n",
    "ardl_order = ardl_select_order(df.bdc_change,3, df[['compound','neg','pos']],\n",
    "                              3, ic = 'aic', trend = \"c\")\n",
    "print(f'The optimal order is: {ardl_order.model.ardl_order}')"
   ]
  },
  {
   "cell_type": "code",
   "execution_count": 51,
   "id": "04096797",
   "metadata": {},
   "outputs": [
    {
     "data": {
      "text/html": [
       "<table class=\"simpletable\">\n",
       "<caption>ARDL Model Results</caption>\n",
       "<tr>\n",
       "  <th>Dep. Variable:</th>    <td>bdc_change</td>    <th>  No. Observations:  </th>    <td>2523</td>   \n",
       "</tr>\n",
       "<tr>\n",
       "  <th>Model:</th>           <td>ARDL(3, 1, 0)</td>  <th>  Log Likelihood     </th>  <td>8118.791</td> \n",
       "</tr>\n",
       "<tr>\n",
       "  <th>Method:</th>         <td>Conditional MLE</td> <th>  S.D. of innovations</th>    <td>0.010</td>  \n",
       "</tr>\n",
       "<tr>\n",
       "  <th>Date:</th>          <td>Thu, 23 Dec 2021</td> <th>  AIC                </th> <td>-16221.581</td>\n",
       "</tr>\n",
       "<tr>\n",
       "  <th>Time:</th>              <td>21:24:16</td>     <th>  BIC                </th> <td>-16174.925</td>\n",
       "</tr>\n",
       "<tr>\n",
       "  <th>Sample:</th>                <td>3</td>        <th>  HQIC               </th> <td>-16204.650</td>\n",
       "</tr>\n",
       "<tr>\n",
       "  <th></th>                     <td>2523</td>       <th>                     </th>      <td> </td>    \n",
       "</tr>\n",
       "</table>\n",
       "<table class=\"simpletable\">\n",
       "<tr>\n",
       "        <td></td>           <th>coef</th>     <th>std err</th>      <th>z</th>      <th>P>|z|</th>  <th>[0.025</th>    <th>0.975]</th>  \n",
       "</tr>\n",
       "<tr>\n",
       "  <th>const</th>         <td>    0.0001</td> <td>    0.001</td> <td>    0.181</td> <td> 0.857</td> <td>   -0.001</td> <td>    0.001</td>\n",
       "</tr>\n",
       "<tr>\n",
       "  <th>bdc_change.L1</th> <td>   -0.0359</td> <td>    0.020</td> <td>   -1.803</td> <td> 0.071</td> <td>   -0.075</td> <td>    0.003</td>\n",
       "</tr>\n",
       "<tr>\n",
       "  <th>bdc_change.L2</th> <td>   -0.0099</td> <td>    0.020</td> <td>   -0.499</td> <td> 0.618</td> <td>   -0.049</td> <td>    0.029</td>\n",
       "</tr>\n",
       "<tr>\n",
       "  <th>bdc_change.L3</th> <td>    0.0606</td> <td>    0.020</td> <td>    3.047</td> <td> 0.002</td> <td>    0.022</td> <td>    0.100</td>\n",
       "</tr>\n",
       "<tr>\n",
       "  <th>neg.L0</th>        <td>    0.0042</td> <td>    0.005</td> <td>    0.848</td> <td> 0.397</td> <td>   -0.005</td> <td>    0.014</td>\n",
       "</tr>\n",
       "<tr>\n",
       "  <th>neg.L1</th>        <td>    0.0141</td> <td>    0.005</td> <td>    2.871</td> <td> 0.004</td> <td>    0.004</td> <td>    0.024</td>\n",
       "</tr>\n",
       "<tr>\n",
       "  <th>pos.L0</th>        <td>   -0.0049</td> <td>    0.003</td> <td>   -1.726</td> <td> 0.084</td> <td>   -0.011</td> <td>    0.001</td>\n",
       "</tr>\n",
       "</table>"
      ],
      "text/plain": [
       "<class 'statsmodels.iolib.summary.Summary'>\n",
       "\"\"\"\n",
       "                              ARDL Model Results                              \n",
       "==============================================================================\n",
       "Dep. Variable:             bdc_change   No. Observations:                 2523\n",
       "Model:                  ARDL(3, 1, 0)   Log Likelihood                8118.791\n",
       "Method:               Conditional MLE   S.D. of innovations              0.010\n",
       "Date:                Thu, 23 Dec 2021   AIC                         -16221.581\n",
       "Time:                        21:24:16   BIC                         -16174.925\n",
       "Sample:                             3   HQIC                        -16204.650\n",
       "                                 2523                                         \n",
       "=================================================================================\n",
       "                    coef    std err          z      P>|z|      [0.025      0.975]\n",
       "---------------------------------------------------------------------------------\n",
       "const             0.0001      0.001      0.181      0.857      -0.001       0.001\n",
       "bdc_change.L1    -0.0359      0.020     -1.803      0.071      -0.075       0.003\n",
       "bdc_change.L2    -0.0099      0.020     -0.499      0.618      -0.049       0.029\n",
       "bdc_change.L3     0.0606      0.020      3.047      0.002       0.022       0.100\n",
       "neg.L0            0.0042      0.005      0.848      0.397      -0.005       0.014\n",
       "neg.L1            0.0141      0.005      2.871      0.004       0.004       0.024\n",
       "pos.L0           -0.0049      0.003     -1.726      0.084      -0.011       0.001\n",
       "=================================================================================\n",
       "\"\"\""
      ]
     },
     "execution_count": 51,
     "metadata": {},
     "output_type": "execute_result"
    }
   ],
   "source": [
    "#fit model and view summary\n",
    "fitted_ardl = ardl_order.model.fit()\n",
    "fitted_ardl.summary()"
   ]
  },
  {
   "cell_type": "markdown",
   "id": "0e9883d0",
   "metadata": {},
   "source": [
    "## Unconstrained Error Correction Models (UECM)"
   ]
  },
  {
   "cell_type": "markdown",
   "id": "230bba77",
   "metadata": {},
   "source": [
    "Unconstrained Error Correction Models reparameterize ARDL model to focus on the long-run component of a time series. "
   ]
  },
  {
   "cell_type": "code",
   "execution_count": 52,
   "id": "3ad0e5ff",
   "metadata": {},
   "outputs": [
    {
     "name": "stderr",
     "output_type": "stream",
     "text": [
      "/Users/nnenna/opt/anaconda3/lib/python3.8/site-packages/statsmodels/tsa/base/tsa_model.py:593: ValueWarning: A date index has been provided, but it has no associated frequency information and so will be ignored when e.g. forecasting.\n",
      "  warnings.warn('A date index has been provided, but it has no'\n",
      "/Users/nnenna/opt/anaconda3/lib/python3.8/site-packages/statsmodels/tsa/base/tsa_model.py:593: ValueWarning: A date index has been provided, but it has no associated frequency information and so will be ignored when e.g. forecasting.\n",
      "  warnings.warn('A date index has been provided, but it has no'\n",
      "/Users/nnenna/opt/anaconda3/lib/python3.8/site-packages/statsmodels/tsa/base/tsa_model.py:593: ValueWarning: A date index has been provided, but it has no associated frequency information and so will be ignored when e.g. forecasting.\n",
      "  warnings.warn('A date index has been provided, but it has no'\n",
      "/Users/nnenna/opt/anaconda3/lib/python3.8/site-packages/statsmodels/tsa/ardl/model.py:158: SpecificationWarning: exog contains variables that are missing from the order dictionary.  Missing keys: compound.\n",
      "  warnings.warn(msg, SpecificationWarning)\n"
     ]
    },
    {
     "data": {
      "text/html": [
       "<table class=\"simpletable\">\n",
       "<caption>UECM Model Results</caption>\n",
       "<tr>\n",
       "  <th>Dep. Variable:</th>   <td>D.bdc_change</td>   <th>  No. Observations:  </th>    <td>2523</td>   \n",
       "</tr>\n",
       "<tr>\n",
       "  <th>Model:</th>            <td>UECM(3, 1)</td>    <th>  Log Likelihood     </th>  <td>8117.297</td> \n",
       "</tr>\n",
       "<tr>\n",
       "  <th>Method:</th>         <td>Conditional MLE</td> <th>  S.D. of innovations</th>    <td>0.014</td>  \n",
       "</tr>\n",
       "<tr>\n",
       "  <th>Date:</th>          <td>Thu, 23 Dec 2021</td> <th>  AIC                </th> <td>-16220.594</td>\n",
       "</tr>\n",
       "<tr>\n",
       "  <th>Time:</th>              <td>21:24:16</td>     <th>  BIC                </th> <td>-16179.770</td>\n",
       "</tr>\n",
       "<tr>\n",
       "  <th>Sample:</th>                <td>3</td>        <th>  HQIC               </th> <td>-16205.779</td>\n",
       "</tr>\n",
       "<tr>\n",
       "  <th></th>                     <td>2523</td>       <th>                     </th>      <td> </td>    \n",
       "</tr>\n",
       "</table>\n",
       "<table class=\"simpletable\">\n",
       "<tr>\n",
       "         <td></td>            <th>coef</th>     <th>std err</th>      <th>z</th>      <th>P>|z|</th>  <th>[0.025</th>    <th>0.975]</th>  \n",
       "</tr>\n",
       "<tr>\n",
       "  <th>const</th>           <td>   -0.0006</td> <td>    0.000</td> <td>   -1.569</td> <td> 0.117</td> <td>   -0.001</td> <td>    0.000</td>\n",
       "</tr>\n",
       "<tr>\n",
       "  <th>bdc_change.L1</th>   <td>   -0.9839</td> <td>    0.035</td> <td>  -27.770</td> <td> 0.000</td> <td>   -1.053</td> <td>   -0.914</td>\n",
       "</tr>\n",
       "<tr>\n",
       "  <th>neg.L1</th>          <td>    0.0181</td> <td>    0.006</td> <td>    3.172</td> <td> 0.002</td> <td>    0.007</td> <td>    0.029</td>\n",
       "</tr>\n",
       "<tr>\n",
       "  <th>D.bdc_change.L1</th> <td>   -0.0518</td> <td>    0.029</td> <td>   -1.806</td> <td> 0.071</td> <td>   -0.108</td> <td>    0.004</td>\n",
       "</tr>\n",
       "<tr>\n",
       "  <th>D.bdc_change.L2</th> <td>   -0.0615</td> <td>    0.020</td> <td>   -3.090</td> <td> 0.002</td> <td>   -0.101</td> <td>   -0.022</td>\n",
       "</tr>\n",
       "<tr>\n",
       "  <th>D.neg.L0</th>        <td>    0.0047</td> <td>    0.005</td> <td>    0.951</td> <td> 0.342</td> <td>   -0.005</td> <td>    0.014</td>\n",
       "</tr>\n",
       "</table>"
      ],
      "text/plain": [
       "<class 'statsmodels.iolib.summary.Summary'>\n",
       "\"\"\"\n",
       "                              UECM Model Results                              \n",
       "==============================================================================\n",
       "Dep. Variable:           D.bdc_change   No. Observations:                 2523\n",
       "Model:                     UECM(3, 1)   Log Likelihood                8117.297\n",
       "Method:               Conditional MLE   S.D. of innovations              0.014\n",
       "Date:                Thu, 23 Dec 2021   AIC                         -16220.594\n",
       "Time:                        21:24:16   BIC                         -16179.770\n",
       "Sample:                             3   HQIC                        -16205.779\n",
       "                                 2523                                         \n",
       "===================================================================================\n",
       "                      coef    std err          z      P>|z|      [0.025      0.975]\n",
       "-----------------------------------------------------------------------------------\n",
       "const              -0.0006      0.000     -1.569      0.117      -0.001       0.000\n",
       "bdc_change.L1      -0.9839      0.035    -27.770      0.000      -1.053      -0.914\n",
       "neg.L1              0.0181      0.006      3.172      0.002       0.007       0.029\n",
       "D.bdc_change.L1    -0.0518      0.029     -1.806      0.071      -0.108       0.004\n",
       "D.bdc_change.L2    -0.0615      0.020     -3.090      0.002      -0.101      -0.022\n",
       "D.neg.L0            0.0047      0.005      0.951      0.342      -0.005       0.014\n",
       "===================================================================================\n",
       "\"\"\""
      ]
     },
     "execution_count": 52,
     "metadata": {},
     "output_type": "execute_result"
    }
   ],
   "source": [
    "#get optimal ardl order for uecm model\n",
    "ardl_order_uecm = ardl_select_order (df.bdc_change, 3, df[['compound','neg']],\n",
    "                                     3, ic = 'aic', trend = 'c'\n",
    ")\n",
    "\n",
    "ecm =  UECM.from_ardl(ardl_order_uecm.model)\n",
    "ecm_fitted = ecm.fit()\n",
    "ecm_fitted.summary()"
   ]
  },
  {
   "cell_type": "markdown",
   "id": "cb02a5cc",
   "metadata": {},
   "source": [
    "### Checking for Cointegration"
   ]
  },
  {
   "cell_type": "code",
   "execution_count": 53,
   "id": "226d4435",
   "metadata": {},
   "outputs": [
    {
     "data": {
      "text/html": [
       "<table class=\"simpletable\">\n",
       "<caption>Cointegrating Vector</caption>\n",
       "<tr>\n",
       "        <td></td>           <th>coef</th>     <th>std err</th>      <th>t</th>      <th>P>|t|</th>  <th>[0.025</th>    <th>0.975]</th>  \n",
       "</tr>\n",
       "<tr>\n",
       "  <th>const</th>         <td>    0.0006</td> <td>    0.000</td> <td>    1.571</td> <td> 0.116</td> <td>   -0.000</td> <td>    0.001</td>\n",
       "</tr>\n",
       "<tr>\n",
       "  <th>bdc_change.L1</th> <td>    1.0000</td> <td>        0</td> <td>      nan</td> <td>   nan</td> <td>    1.000</td> <td>    1.000</td>\n",
       "</tr>\n",
       "<tr>\n",
       "  <th>neg.L1</th>        <td>   -0.0184</td> <td>    0.006</td> <td>   -3.190</td> <td> 0.001</td> <td>   -0.030</td> <td>   -0.007</td>\n",
       "</tr>\n",
       "</table>"
      ],
      "text/plain": [
       "<class 'statsmodels.iolib.summary.Summary'>\n",
       "\"\"\"\n",
       "                               Cointegrating Vector                              \n",
       "=================================================================================\n",
       "                    coef    std err          t      P>|t|      [0.025      0.975]\n",
       "---------------------------------------------------------------------------------\n",
       "const             0.0006      0.000      1.571      0.116      -0.000       0.001\n",
       "bdc_change.L1     1.0000          0        nan        nan       1.000       1.000\n",
       "neg.L1           -0.0184      0.006     -3.190      0.001      -0.030      -0.007\n",
       "=================================================================================\n",
       "\"\"\""
      ]
     },
     "execution_count": 53,
     "metadata": {},
     "output_type": "execute_result"
    }
   ],
   "source": [
    "#view model summary\n",
    "ecm_fitted.ci_summary()"
   ]
  },
  {
   "cell_type": "code",
   "execution_count": 54,
   "id": "ddf40ef7",
   "metadata": {},
   "outputs": [
    {
     "data": {
      "text/plain": [
       "<AxesSubplot:title={'center':'Cointegrating Error'}, xlabel='date'>"
      ]
     },
     "execution_count": 54,
     "metadata": {},
     "output_type": "execute_result"
    },
    {
     "data": {
      "image/png": "[encoded data removed]",
      "text/plain": [
       "<Figure size 432x288 with 1 Axes>"
      ]
     },
     "metadata": {
      "needs_background": "light"
     },
     "output_type": "display_data"
    }
   ],
   "source": [
    "#plot residuals\n",
    "ecm_fitted.ci_resids.plot(title =\"Cointegrating Error\")"
   ]
  },
  {
   "cell_type": "markdown",
   "id": "b78c6f7f",
   "metadata": {},
   "source": [
    "## Conclusion"
   ]
  },
  {
   "cell_type": "markdown",
   "id": "d9546539",
   "metadata": {},
   "source": [
    "- Yes, twitter sentiments can help to predict the trend of exchange rate in Nigeria.\n",
    "- Study specified 3 models – Granger Causality,  ARDL & SARIMAX in analyzing the relationship between NGN/USD exchange rate and sentiments from 116,330 tweets by 51,226 users between 2014 and 2020.\n",
    "- Granger Causality Test showed bi-directional causality running from (negative) sentiments to exchange rate & vice versa.  \n",
    "- ARDL model corroborated this finding as a significant long run relationship was reported for (negative) sentiments and exchange rate movements.\n"
   ]
  },
  {
   "cell_type": "markdown",
   "id": "b350e649",
   "metadata": {},
   "source": [
    "## Recommendations"
   ]
  },
  {
   "cell_type": "markdown",
   "id": "b15694bc",
   "metadata": {},
   "source": [
    "- For future analysis, this study recommends scaling up the number of tweets analyzed to improve reliability of results.\n",
    "\n",
    "- Future analysis could decompose sentiments into moods to better understand the nature of the relationship.\n",
    "\n",
    "- There is potential to apply approach to forecasting other macroeconomic variables.\n"
   ]
  }
 ],
 "metadata": {
  "kernelspec": {
   "display_name": "Python 3",
   "language": "python",
   "name": "python3"
  },
  "language_info": {
   "codemirror_mode": {
    "name": "ipython",
    "version": 3
   },
   "file_extension": ".py",
   "mimetype": "text/x-python",
   "name": "python",
   "nbconvert_exporter": "python",
   "pygments_lexer": "ipython3",
   "version": "3.8.8"
  }
 },
 "nbformat": 4,
 "nbformat_minor": 5
}
