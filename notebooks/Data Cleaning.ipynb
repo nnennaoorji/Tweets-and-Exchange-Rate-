{
 "cells": [
  {
   "cell_type": "code",
   "execution_count": 58,
   "id": "aa3a48bd",
   "metadata": {},
   "outputs": [],
   "source": [
    "#imports\n",
    "import pandas as pd\n",
    "import numpy as np\n",
    "import matplotlib.pyplot as plt\n",
    "from sklearn.model_selection import train_test_split,cross_val_score, GridSearchCV\n",
    "from sklearn.linear_model import LogisticRegression\n",
    "from sklearn.metrics import confusion_matrix, plot_confusion_matrix\n",
    "from sklearn.pipeline import Pipeline\n",
    "from sklearn.naive_bayes import MultinomialNB\n",
    "from sklearn.feature_extraction.text import CountVectorizer, TfidfVectorizer\n",
    "from nltk.sentiment.vader import SentimentIntensityAnalyzer\n",
    "from nltk.tokenize import sent_tokenize, word_tokenize, RegexpTokenizer\n",
    "from sklearn.ensemble import RandomForestClassifier\n",
    "from wordcloud import WordCloud\n",
    "import time\n"
   ]
  },
  {
   "cell_type": "code",
   "execution_count": 59,
   "id": "6f2ad9a2",
   "metadata": {},
   "outputs": [],
   "source": [
    "#display settings\n",
    "pd.set_option('display.max_rows',1000)\n",
    "pd.set_option('display.max_columns',1000)"
   ]
  },
  {
   "cell_type": "code",
   "execution_count": 60,
   "id": "7417e349",
   "metadata": {},
   "outputs": [
    {
     "data": {
      "text/html": [
       "<div>\n",
       "<style scoped>\n",
       "    .dataframe tbody tr th:only-of-type {\n",
       "        vertical-align: middle;\n",
       "    }\n",
       "\n",
       "    .dataframe tbody tr th {\n",
       "        vertical-align: top;\n",
       "    }\n",
       "\n",
       "    .dataframe thead th {\n",
       "        text-align: right;\n",
       "    }\n",
       "</style>\n",
       "<table border=\"1\" class=\"dataframe\">\n",
       "  <thead>\n",
       "    <tr style=\"text-align: right;\">\n",
       "      <th></th>\n",
       "      <th>Unnamed: 0</th>\n",
       "      <th>Datetime</th>\n",
       "      <th>Tweet Id</th>\n",
       "      <th>Text</th>\n",
       "      <th>Username</th>\n",
       "    </tr>\n",
       "  </thead>\n",
       "  <tbody>\n",
       "    <tr>\n",
       "      <th>0</th>\n",
       "      <td>0</td>\n",
       "      <td>2014-11-30 20:16:29+00:00</td>\n",
       "      <td>5.391510e+17</td>\n",
       "      <td>@bhurharhi higher, because naira has low value...</td>\n",
       "      <td>411sevices</td>\n",
       "    </tr>\n",
       "    <tr>\n",
       "      <th>1</th>\n",
       "      <td>1</td>\n",
       "      <td>2014-11-30 20:13:52+00:00</td>\n",
       "      <td>5.391503e+17</td>\n",
       "      <td>AntiGayLaw - Gone\\nNaira Value - what value?\\n...</td>\n",
       "      <td>thetitoway</td>\n",
       "    </tr>\n",
       "    <tr>\n",
       "      <th>2</th>\n",
       "      <td>2</td>\n",
       "      <td>2014-11-30 20:08:51+00:00</td>\n",
       "      <td>5.391491e+17</td>\n",
       "      <td>@remiopakunle maybe not. Thinking of head lamp...</td>\n",
       "      <td>doysol_</td>\n",
       "    </tr>\n",
       "    <tr>\n",
       "      <th>3</th>\n",
       "      <td>3</td>\n",
       "      <td>2014-11-30 16:14:40+00:00</td>\n",
       "      <td>5.390901e+17</td>\n",
       "      <td>I just lost like $70 because Naira value went ...</td>\n",
       "      <td>TomiwaBrown</td>\n",
       "    </tr>\n",
       "    <tr>\n",
       "      <th>4</th>\n",
       "      <td>4</td>\n",
       "      <td>2014-11-30 15:42:59+00:00</td>\n",
       "      <td>5.390822e+17</td>\n",
       "      <td>In 30yrs the value of naira was murdered! E</td>\n",
       "      <td>DaddyChelsea</td>\n",
       "    </tr>\n",
       "  </tbody>\n",
       "</table>\n",
       "</div>"
      ],
      "text/plain": [
       "  Unnamed: 0                   Datetime      Tweet Id  \\\n",
       "0          0  2014-11-30 20:16:29+00:00  5.391510e+17   \n",
       "1          1  2014-11-30 20:13:52+00:00  5.391503e+17   \n",
       "2          2  2014-11-30 20:08:51+00:00  5.391491e+17   \n",
       "3          3  2014-11-30 16:14:40+00:00  5.390901e+17   \n",
       "4          4  2014-11-30 15:42:59+00:00  5.390822e+17   \n",
       "\n",
       "                                                Text      Username  \n",
       "0  @bhurharhi higher, because naira has low value...    411sevices  \n",
       "1  AntiGayLaw - Gone\\nNaira Value - what value?\\n...    thetitoway  \n",
       "2  @remiopakunle maybe not. Thinking of head lamp...       doysol_  \n",
       "3  I just lost like $70 because Naira value went ...   TomiwaBrown  \n",
       "4        In 30yrs the value of naira was murdered! E  DaddyChelsea  "
      ]
     },
     "execution_count": 60,
     "metadata": {},
     "output_type": "execute_result"
    }
   ],
   "source": [
    "#reading data and viewing first 5 rows\n",
    "naira_value = pd.read_csv ('data/naira_value.csv')\n",
    "naira_value.head()"
   ]
  },
  {
   "cell_type": "code",
   "execution_count": 61,
   "id": "c5a47eec",
   "metadata": {},
   "outputs": [
    {
     "data": {
      "text/html": [
       "<div>\n",
       "<style scoped>\n",
       "    .dataframe tbody tr th:only-of-type {\n",
       "        vertical-align: middle;\n",
       "    }\n",
       "\n",
       "    .dataframe tbody tr th {\n",
       "        vertical-align: top;\n",
       "    }\n",
       "\n",
       "    .dataframe thead th {\n",
       "        text-align: right;\n",
       "    }\n",
       "</style>\n",
       "<table border=\"1\" class=\"dataframe\">\n",
       "  <thead>\n",
       "    <tr style=\"text-align: right;\">\n",
       "      <th></th>\n",
       "      <th>Unnamed: 0</th>\n",
       "      <th>Datetime</th>\n",
       "      <th>Tweet Id</th>\n",
       "      <th>Text</th>\n",
       "      <th>Username</th>\n",
       "    </tr>\n",
       "  </thead>\n",
       "  <tbody>\n",
       "    <tr>\n",
       "      <th>0</th>\n",
       "      <td>0</td>\n",
       "      <td>2014-11-30 23:51:38+00:00</td>\n",
       "      <td>5.392051e+17</td>\n",
       "      <td>Naira devaluation will have Mixed effect on ec...</td>\n",
       "      <td>naijanewso</td>\n",
       "    </tr>\n",
       "    <tr>\n",
       "      <th>1</th>\n",
       "      <td>1</td>\n",
       "      <td>2014-11-30 23:38:47+00:00</td>\n",
       "      <td>5.392019e+17</td>\n",
       "      <td>Nigeria: Our oyel money, dollar, naira, and fo...</td>\n",
       "      <td>Village_Square</td>\n",
       "    </tr>\n",
       "    <tr>\n",
       "      <th>2</th>\n",
       "      <td>2</td>\n",
       "      <td>2014-11-30 23:21:23+00:00</td>\n",
       "      <td>5.391975e+17</td>\n",
       "      <td>Nigeria: Our oyel money, dollar, naira, and fo...</td>\n",
       "      <td>EagleReporters</td>\n",
       "    </tr>\n",
       "    <tr>\n",
       "      <th>3</th>\n",
       "      <td>3</td>\n",
       "      <td>2014-11-30 23:21:18+00:00</td>\n",
       "      <td>5.391975e+17</td>\n",
       "      <td>Nigeria: Our oyel money, dollar, naira, and fo...</td>\n",
       "      <td>EagleReporters</td>\n",
       "    </tr>\n",
       "    <tr>\n",
       "      <th>4</th>\n",
       "      <td>4</td>\n",
       "      <td>2014-11-30 23:10:02+00:00</td>\n",
       "      <td>5.391947e+17</td>\n",
       "      <td>#Ginjaland | News: Falling oil price: CBN cuts...</td>\n",
       "      <td>ginjaland</td>\n",
       "    </tr>\n",
       "  </tbody>\n",
       "</table>\n",
       "</div>"
      ],
      "text/plain": [
       "  Unnamed: 0                   Datetime      Tweet Id  \\\n",
       "0          0  2014-11-30 23:51:38+00:00  5.392051e+17   \n",
       "1          1  2014-11-30 23:38:47+00:00  5.392019e+17   \n",
       "2          2  2014-11-30 23:21:23+00:00  5.391975e+17   \n",
       "3          3  2014-11-30 23:21:18+00:00  5.391975e+17   \n",
       "4          4  2014-11-30 23:10:02+00:00  5.391947e+17   \n",
       "\n",
       "                                                Text        Username  \n",
       "0  Naira devaluation will have Mixed effect on ec...      naijanewso  \n",
       "1  Nigeria: Our oyel money, dollar, naira, and fo...  Village_Square  \n",
       "2  Nigeria: Our oyel money, dollar, naira, and fo...  EagleReporters  \n",
       "3  Nigeria: Our oyel money, dollar, naira, and fo...  EagleReporters  \n",
       "4  #Ginjaland | News: Falling oil price: CBN cuts...       ginjaland  "
      ]
     },
     "execution_count": 61,
     "metadata": {},
     "output_type": "execute_result"
    }
   ],
   "source": [
    "#reading data and viewing first 5 rows\n",
    "naira_dollar = pd.read_csv ('data/naira_dollar.csv')\n",
    "naira_dollar.head()"
   ]
  },
  {
   "cell_type": "code",
   "execution_count": 62,
   "id": "3ff85df7",
   "metadata": {},
   "outputs": [
    {
     "data": {
      "text/html": [
       "<div>\n",
       "<style scoped>\n",
       "    .dataframe tbody tr th:only-of-type {\n",
       "        vertical-align: middle;\n",
       "    }\n",
       "\n",
       "    .dataframe tbody tr th {\n",
       "        vertical-align: top;\n",
       "    }\n",
       "\n",
       "    .dataframe thead th {\n",
       "        text-align: right;\n",
       "    }\n",
       "</style>\n",
       "<table border=\"1\" class=\"dataframe\">\n",
       "  <thead>\n",
       "    <tr style=\"text-align: right;\">\n",
       "      <th></th>\n",
       "      <th>Unnamed: 0</th>\n",
       "      <th>Datetime</th>\n",
       "      <th>Tweet Id</th>\n",
       "      <th>Text</th>\n",
       "      <th>Username</th>\n",
       "    </tr>\n",
       "  </thead>\n",
       "  <tbody>\n",
       "    <tr>\n",
       "      <th>0</th>\n",
       "      <td>0</td>\n",
       "      <td>2020-01-30 23:08:43+00:00</td>\n",
       "      <td>1.223020e+18</td>\n",
       "      <td>In the 70's the Naira had more value than the ...</td>\n",
       "      <td>VintageMAk</td>\n",
       "    </tr>\n",
       "    <tr>\n",
       "      <th>1</th>\n",
       "      <td>1</td>\n",
       "      <td>2020-01-30 22:18:17+00:00</td>\n",
       "      <td>1.223008e+18</td>\n",
       "      <td>@MaiSharifai @paki_yusuf @AysherSadiq @_yakawa...</td>\n",
       "      <td>yakubu_mj</td>\n",
       "    </tr>\n",
       "    <tr>\n",
       "      <th>2</th>\n",
       "      <td>2</td>\n",
       "      <td>2020-01-30 21:50:55+00:00</td>\n",
       "      <td>1.223001e+18</td>\n",
       "      <td>@VanGelder_ Liberia dollar or naira</td>\n",
       "      <td>Selenu___</td>\n",
       "    </tr>\n",
       "    <tr>\n",
       "      <th>3</th>\n",
       "      <td>3</td>\n",
       "      <td>2020-01-30 21:47:56+00:00</td>\n",
       "      <td>1.223000e+18</td>\n",
       "      <td>@MizzAina If I had a dollar for every time you...</td>\n",
       "      <td>TheToluAdeyi</td>\n",
       "    </tr>\n",
       "    <tr>\n",
       "      <th>4</th>\n",
       "      <td>4</td>\n",
       "      <td>2020-01-30 21:45:28+00:00</td>\n",
       "      <td>1.222999e+18</td>\n",
       "      <td>Good and not so good.\\nMost people do not know...</td>\n",
       "      <td>AauraFragrance</td>\n",
       "    </tr>\n",
       "  </tbody>\n",
       "</table>\n",
       "</div>"
      ],
      "text/plain": [
       "  Unnamed: 0                   Datetime      Tweet Id  \\\n",
       "0          0  2020-01-30 23:08:43+00:00  1.223020e+18   \n",
       "1          1  2020-01-30 22:18:17+00:00  1.223008e+18   \n",
       "2          2  2020-01-30 21:50:55+00:00  1.223001e+18   \n",
       "3          3  2020-01-30 21:47:56+00:00  1.223000e+18   \n",
       "4          4  2020-01-30 21:45:28+00:00  1.222999e+18   \n",
       "\n",
       "                                                Text        Username  \n",
       "0  In the 70's the Naira had more value than the ...      VintageMAk  \n",
       "1  @MaiSharifai @paki_yusuf @AysherSadiq @_yakawa...       yakubu_mj  \n",
       "2                @VanGelder_ Liberia dollar or naira       Selenu___  \n",
       "3  @MizzAina If I had a dollar for every time you...    TheToluAdeyi  \n",
       "4  Good and not so good.\\nMost people do not know...  AauraFragrance  "
      ]
     },
     "execution_count": 62,
     "metadata": {},
     "output_type": "execute_result"
    }
   ],
   "source": [
    "#reading data and viewing first 5 rows\n",
    "supplemental_tweets = pd.read_csv ('data/new_tweets.csv')\n",
    "supplemental_tweets.head()"
   ]
  },
  {
   "cell_type": "markdown",
   "id": "9c3ac287",
   "metadata": {},
   "source": [
    "# Data Cleaning"
   ]
  },
  {
   "cell_type": "code",
   "execution_count": 63,
   "id": "376cdae6",
   "metadata": {},
   "outputs": [],
   "source": [
    "#dropping \"unnamed\" columns from dataframes\n",
    "naira_value.drop(columns = 'Unnamed: 0', inplace = True)\n",
    "naira_dollar.drop(columns = 'Unnamed: 0', inplace = True)\n",
    "supplemental_tweets.drop(columns = 'Unnamed: 0', inplace = True)"
   ]
  },
  {
   "cell_type": "markdown",
   "id": "d891d9b3",
   "metadata": {},
   "source": [
    "### Concatenating \"naira dollar\" and \"naira value\" tweets "
   ]
  },
  {
   "cell_type": "code",
   "execution_count": 64,
   "id": "0298ec63",
   "metadata": {},
   "outputs": [
    {
     "name": "stdout",
     "output_type": "stream",
     "text": [
      "(68713, 4)\n",
      "(45421, 4)\n",
      "(8629, 4)\n"
     ]
    }
   ],
   "source": [
    "print(naira_dollar.shape)\n",
    "print(naira_value.shape)\n",
    "print(supplemental_tweets.shape)"
   ]
  },
  {
   "cell_type": "code",
   "execution_count": 65,
   "id": "45222281",
   "metadata": {},
   "outputs": [
    {
     "data": {
      "text/plain": [
       "(122763, 4)"
      ]
     },
     "execution_count": 65,
     "metadata": {},
     "output_type": "execute_result"
    }
   ],
   "source": [
    "naira_tweets = pd.concat([naira_dollar, naira_value, supplemental_tweets])\n",
    "naira_tweets.sort_index(inplace = True)\n",
    "naira_tweets.shape"
   ]
  },
  {
   "cell_type": "code",
   "execution_count": 66,
   "id": "a31d7015",
   "metadata": {},
   "outputs": [
    {
     "data": {
      "text/plain": [
       "Datetime    115598\n",
       "Tweet Id    119957\n",
       "Text        116330\n",
       "Username     51226\n",
       "dtype: int64"
      ]
     },
     "execution_count": 66,
     "metadata": {},
     "output_type": "execute_result"
    }
   ],
   "source": [
    "#checking count of unique values\n",
    "naira_tweets.nunique()"
   ]
  },
  {
   "cell_type": "code",
   "execution_count": 67,
   "id": "d12b3044",
   "metadata": {},
   "outputs": [],
   "source": [
    "#dropping duplicates\n",
    "naira_tweets.drop_duplicates(subset=['Text'],keep='last',inplace=True)"
   ]
  },
  {
   "cell_type": "markdown",
   "id": "c0e292fc",
   "metadata": {},
   "source": [
    "For the purpose of this analysis, we will be ignoring the fact that multiple tweets may have come from one user. This is however relevant information to keep in mind when interpreting results from the analysis. We will however drop duplicate tweets."
   ]
  },
  {
   "cell_type": "code",
   "execution_count": 68,
   "id": "cbce8f93",
   "metadata": {},
   "outputs": [
    {
     "data": {
      "text/plain": [
       "(116331, 4)"
      ]
     },
     "execution_count": 68,
     "metadata": {},
     "output_type": "execute_result"
    }
   ],
   "source": [
    "naira_tweets.shape"
   ]
  },
  {
   "cell_type": "code",
   "execution_count": 69,
   "id": "9819456e",
   "metadata": {},
   "outputs": [
    {
     "name": "stdout",
     "output_type": "stream",
     "text": [
      "<class 'pandas.core.frame.DataFrame'>\n",
      "Int64Index: 116331 entries, 0 to 68712\n",
      "Data columns (total 4 columns):\n",
      " #   Column    Non-Null Count   Dtype  \n",
      "---  ------    --------------   -----  \n",
      " 0   Datetime  116331 non-null  object \n",
      " 1   Tweet Id  116330 non-null  float64\n",
      " 2   Text      116330 non-null  object \n",
      " 3   Username  116312 non-null  object \n",
      "dtypes: float64(1), object(3)\n",
      "memory usage: 4.4+ MB\n"
     ]
    }
   ],
   "source": [
    "#checking info about dataframe\n",
    "naira_tweets.info()"
   ]
  },
  {
   "cell_type": "code",
   "execution_count": 70,
   "id": "63c7c57e",
   "metadata": {},
   "outputs": [],
   "source": [
    "#removing time component from datetime object\n",
    "naira_tweets['Datetime']= naira_tweets['Datetime'].apply(lambda x:str(x)[:10])"
   ]
  },
  {
   "cell_type": "code",
   "execution_count": 71,
   "id": "313989e3",
   "metadata": {},
   "outputs": [],
   "source": [
    "#cleaning \"datetime\" column\n",
    "naira_tweets.drop(naira_tweets[naira_tweets['Datetime']== 'mmannymash'].index, inplace= True)"
   ]
  },
  {
   "cell_type": "code",
   "execution_count": 72,
   "id": "69d7e85f",
   "metadata": {},
   "outputs": [],
   "source": [
    "#function to find rows with invalid dates \n",
    "def find_invalid_dates (string):\n",
    "    if string[:4] not in str([2014, 2015, 2016, 2017, 2018, 2019, 2020]):\n",
    "        return \"yes\"\n",
    "    else:\n",
    "        return \"no\"\n",
    "    "
   ]
  },
  {
   "cell_type": "code",
   "execution_count": 73,
   "id": "b5a0fdcc",
   "metadata": {},
   "outputs": [],
   "source": [
    "#mapping function to dataframe\n",
    "naira_tweets['invalid_date'] = naira_tweets.apply(lambda x:find_invalid_dates(x['Datetime']),axis =1)"
   ]
  },
  {
   "cell_type": "code",
   "execution_count": 74,
   "id": "2369220e",
   "metadata": {},
   "outputs": [
    {
     "data": {
      "text/html": [
       "<div>\n",
       "<style scoped>\n",
       "    .dataframe tbody tr th:only-of-type {\n",
       "        vertical-align: middle;\n",
       "    }\n",
       "\n",
       "    .dataframe tbody tr th {\n",
       "        vertical-align: top;\n",
       "    }\n",
       "\n",
       "    .dataframe thead th {\n",
       "        text-align: right;\n",
       "    }\n",
       "</style>\n",
       "<table border=\"1\" class=\"dataframe\">\n",
       "  <thead>\n",
       "    <tr style=\"text-align: right;\">\n",
       "      <th></th>\n",
       "      <th>Datetime</th>\n",
       "      <th>Tweet Id</th>\n",
       "      <th>Text</th>\n",
       "      <th>Username</th>\n",
       "      <th>invalid_date</th>\n",
       "    </tr>\n",
       "  </thead>\n",
       "  <tbody>\n",
       "    <tr>\n",
       "      <th>34938</th>\n",
       "      <td>ElegbaaFra</td>\n",
       "      <td>NaN</td>\n",
       "      <td>NaN</td>\n",
       "      <td>NaN</td>\n",
       "      <td>yes</td>\n",
       "    </tr>\n",
       "  </tbody>\n",
       "</table>\n",
       "</div>"
      ],
      "text/plain": [
       "         Datetime  Tweet Id Text Username invalid_date\n",
       "34938  ElegbaaFra       NaN  NaN      NaN          yes"
      ]
     },
     "execution_count": 74,
     "metadata": {},
     "output_type": "execute_result"
    }
   ],
   "source": [
    "#rows with \"invalid dates\"\n",
    "naira_tweets[naira_tweets['invalid_date']=='yes']"
   ]
  },
  {
   "cell_type": "code",
   "execution_count": 75,
   "id": "d738d51f",
   "metadata": {},
   "outputs": [],
   "source": [
    "#dropping rows with invalid dates\n",
    "naira_tweets.drop(naira_tweets[naira_tweets['invalid_date']=='yes'].index, inplace = True)"
   ]
  },
  {
   "cell_type": "code",
   "execution_count": 76,
   "id": "71b78064",
   "metadata": {},
   "outputs": [],
   "source": [
    "#converting column to datetime format\n",
    "naira_tweets['Datetime']  = pd.to_datetime(naira_tweets['Datetime'])"
   ]
  },
  {
   "cell_type": "code",
   "execution_count": 77,
   "id": "6d2268b9",
   "metadata": {},
   "outputs": [
    {
     "data": {
      "text/plain": [
       "Datetime        datetime64[ns]\n",
       "Tweet Id               float64\n",
       "Text                    object\n",
       "Username                object\n",
       "invalid_date            object\n",
       "dtype: object"
      ]
     },
     "execution_count": 77,
     "metadata": {},
     "output_type": "execute_result"
    }
   ],
   "source": [
    "#confirming datatypes\n",
    "naira_tweets.dtypes"
   ]
  },
  {
   "cell_type": "code",
   "execution_count": 78,
   "id": "238c521b",
   "metadata": {},
   "outputs": [
    {
     "data": {
      "text/plain": [
       "Datetime         0\n",
       "Tweet Id         0\n",
       "Text             0\n",
       "Username        18\n",
       "invalid_date     0\n",
       "dtype: int64"
      ]
     },
     "execution_count": 78,
     "metadata": {},
     "output_type": "execute_result"
    }
   ],
   "source": [
    "#checking for nulls\n",
    "naira_tweets.isnull().sum()"
   ]
  },
  {
   "cell_type": "markdown",
   "id": "74c2611f",
   "metadata": {},
   "source": [
    "There are nulls in the user name column, however we are mainly concerned with the text column."
   ]
  },
  {
   "cell_type": "code",
   "execution_count": 79,
   "id": "eb957214",
   "metadata": {},
   "outputs": [
    {
     "data": {
      "text/html": [
       "<div>\n",
       "<style scoped>\n",
       "    .dataframe tbody tr th:only-of-type {\n",
       "        vertical-align: middle;\n",
       "    }\n",
       "\n",
       "    .dataframe tbody tr th {\n",
       "        vertical-align: top;\n",
       "    }\n",
       "\n",
       "    .dataframe thead th {\n",
       "        text-align: right;\n",
       "    }\n",
       "</style>\n",
       "<table border=\"1\" class=\"dataframe\">\n",
       "  <thead>\n",
       "    <tr style=\"text-align: right;\">\n",
       "      <th></th>\n",
       "      <th>date</th>\n",
       "      <th>tweet_id</th>\n",
       "      <th>text</th>\n",
       "      <th>user_name</th>\n",
       "      <th>invalid_date</th>\n",
       "    </tr>\n",
       "  </thead>\n",
       "  <tbody>\n",
       "    <tr>\n",
       "      <th>0</th>\n",
       "      <td>2014-11-30</td>\n",
       "      <td>5.392051e+17</td>\n",
       "      <td>Naira devaluation will have Mixed effect on ec...</td>\n",
       "      <td>naijanewso</td>\n",
       "      <td>no</td>\n",
       "    </tr>\n",
       "    <tr>\n",
       "      <th>0</th>\n",
       "      <td>2014-11-30</td>\n",
       "      <td>5.391510e+17</td>\n",
       "      <td>@bhurharhi higher, because naira has low value...</td>\n",
       "      <td>411sevices</td>\n",
       "      <td>no</td>\n",
       "    </tr>\n",
       "    <tr>\n",
       "      <th>1</th>\n",
       "      <td>2014-11-30</td>\n",
       "      <td>5.392019e+17</td>\n",
       "      <td>Nigeria: Our oyel money, dollar, naira, and fo...</td>\n",
       "      <td>Village_Square</td>\n",
       "      <td>no</td>\n",
       "    </tr>\n",
       "    <tr>\n",
       "      <th>1</th>\n",
       "      <td>2014-11-30</td>\n",
       "      <td>5.391503e+17</td>\n",
       "      <td>AntiGayLaw - Gone\\nNaira Value - what value?\\n...</td>\n",
       "      <td>thetitoway</td>\n",
       "      <td>no</td>\n",
       "    </tr>\n",
       "    <tr>\n",
       "      <th>2</th>\n",
       "      <td>2014-11-30</td>\n",
       "      <td>5.391975e+17</td>\n",
       "      <td>Nigeria: Our oyel money, dollar, naira, and fo...</td>\n",
       "      <td>EagleReporters</td>\n",
       "      <td>no</td>\n",
       "    </tr>\n",
       "  </tbody>\n",
       "</table>\n",
       "</div>"
      ],
      "text/plain": [
       "        date      tweet_id                                               text  \\\n",
       "0 2014-11-30  5.392051e+17  Naira devaluation will have Mixed effect on ec...   \n",
       "0 2014-11-30  5.391510e+17  @bhurharhi higher, because naira has low value...   \n",
       "1 2014-11-30  5.392019e+17  Nigeria: Our oyel money, dollar, naira, and fo...   \n",
       "1 2014-11-30  5.391503e+17  AntiGayLaw - Gone\\nNaira Value - what value?\\n...   \n",
       "2 2014-11-30  5.391975e+17  Nigeria: Our oyel money, dollar, naira, and fo...   \n",
       "\n",
       "        user_name invalid_date  \n",
       "0      naijanewso           no  \n",
       "0      411sevices           no  \n",
       "1  Village_Square           no  \n",
       "1      thetitoway           no  \n",
       "2  EagleReporters           no  "
      ]
     },
     "execution_count": 79,
     "metadata": {},
     "output_type": "execute_result"
    }
   ],
   "source": [
    "#renaming columns\n",
    "naira_tweets.rename(columns = {'Datetime': 'date',\n",
    "                           'Text': 'text',\n",
    "                           'Username': 'user_name',\n",
    "                            'Tweet Id': 'tweet_id'\n",
    "                           }, inplace = True)\n",
    "naira_tweets.head()"
   ]
  },
  {
   "cell_type": "code",
   "execution_count": 80,
   "id": "1df033c0",
   "metadata": {},
   "outputs": [],
   "source": [
    "#removing links from texts\n",
    "naira_tweets['text'] = naira_tweets['text'].replace('http\\S+', '', regex=True).replace('www\\S+', '', regex=True).replace('\\n\\n\\S+', '', regex=True)"
   ]
  },
  {
   "cell_type": "code",
   "execution_count": 81,
   "id": "5ad16b0f",
   "metadata": {},
   "outputs": [],
   "source": [
    "#setting date as index\n",
    "naira_tweets.set_index('date', inplace = True)"
   ]
  },
  {
   "cell_type": "code",
   "execution_count": 82,
   "id": "18c66c8f",
   "metadata": {},
   "outputs": [],
   "source": [
    "#sorting dataframe based on index\n",
    "naira_tweets.sort_index(inplace = True)"
   ]
  },
  {
   "cell_type": "markdown",
   "id": "492e9129",
   "metadata": {},
   "source": [
    "## Exchange Rate Data"
   ]
  },
  {
   "cell_type": "markdown",
   "id": "d131debf",
   "metadata": {},
   "source": [
    "Nigeria has 3 different exchange rates depending on source and purpose. For this analysis, we would be focusing on daily frequency Bureau de Change (BDC) Naira to Dollar Exchange rate as this rate is more reflective of market conditions."
   ]
  },
  {
   "cell_type": "code",
   "execution_count": 83,
   "id": "dd9da8ce",
   "metadata": {},
   "outputs": [
    {
     "data": {
      "text/html": [
       "<div>\n",
       "<style scoped>\n",
       "    .dataframe tbody tr th:only-of-type {\n",
       "        vertical-align: middle;\n",
       "    }\n",
       "\n",
       "    .dataframe tbody tr th {\n",
       "        vertical-align: top;\n",
       "    }\n",
       "\n",
       "    .dataframe thead th {\n",
       "        text-align: right;\n",
       "    }\n",
       "</style>\n",
       "<table border=\"1\" class=\"dataframe\">\n",
       "  <thead>\n",
       "    <tr style=\"text-align: right;\">\n",
       "      <th></th>\n",
       "      <th>Unnamed: 0</th>\n",
       "      <th>nominal</th>\n",
       "      <th>BDC</th>\n",
       "    </tr>\n",
       "  </thead>\n",
       "  <tbody>\n",
       "    <tr>\n",
       "      <th>0</th>\n",
       "      <td>2014-01-02</td>\n",
       "      <td>157.26</td>\n",
       "      <td>172.0</td>\n",
       "    </tr>\n",
       "    <tr>\n",
       "      <th>1</th>\n",
       "      <td>2014-01-03</td>\n",
       "      <td>157.26</td>\n",
       "      <td>172.0</td>\n",
       "    </tr>\n",
       "    <tr>\n",
       "      <th>2</th>\n",
       "      <td>2014-01-06</td>\n",
       "      <td>157.28</td>\n",
       "      <td>172.0</td>\n",
       "    </tr>\n",
       "    <tr>\n",
       "      <th>3</th>\n",
       "      <td>2014-01-07</td>\n",
       "      <td>157.28</td>\n",
       "      <td>172.0</td>\n",
       "    </tr>\n",
       "    <tr>\n",
       "      <th>4</th>\n",
       "      <td>2014-01-08</td>\n",
       "      <td>157.28</td>\n",
       "      <td>172.0</td>\n",
       "    </tr>\n",
       "  </tbody>\n",
       "</table>\n",
       "</div>"
      ],
      "text/plain": [
       "   Unnamed: 0  nominal    BDC\n",
       "0  2014-01-02   157.26  172.0\n",
       "1  2014-01-03   157.26  172.0\n",
       "2  2014-01-06   157.28  172.0\n",
       "3  2014-01-07   157.28  172.0\n",
       "4  2014-01-08   157.28  172.0"
      ]
     },
     "execution_count": 83,
     "metadata": {},
     "output_type": "execute_result"
    }
   ],
   "source": [
    "#reading data\n",
    "bdc_rates = pd.read_csv('data/bdc_exchange_rate.csv')\n",
    "bdc_rates.head()"
   ]
  },
  {
   "cell_type": "code",
   "execution_count": 84,
   "id": "772accc7",
   "metadata": {},
   "outputs": [
    {
     "data": {
      "text/html": [
       "<div>\n",
       "<style scoped>\n",
       "    .dataframe tbody tr th:only-of-type {\n",
       "        vertical-align: middle;\n",
       "    }\n",
       "\n",
       "    .dataframe tbody tr th {\n",
       "        vertical-align: top;\n",
       "    }\n",
       "\n",
       "    .dataframe thead th {\n",
       "        text-align: right;\n",
       "    }\n",
       "</style>\n",
       "<table border=\"1\" class=\"dataframe\">\n",
       "  <thead>\n",
       "    <tr style=\"text-align: right;\">\n",
       "      <th></th>\n",
       "      <th>date</th>\n",
       "      <th>nominal</th>\n",
       "      <th>bdc</th>\n",
       "    </tr>\n",
       "  </thead>\n",
       "  <tbody>\n",
       "    <tr>\n",
       "      <th>0</th>\n",
       "      <td>2014-01-02</td>\n",
       "      <td>157.26</td>\n",
       "      <td>172.0</td>\n",
       "    </tr>\n",
       "    <tr>\n",
       "      <th>1</th>\n",
       "      <td>2014-01-03</td>\n",
       "      <td>157.26</td>\n",
       "      <td>172.0</td>\n",
       "    </tr>\n",
       "    <tr>\n",
       "      <th>2</th>\n",
       "      <td>2014-01-06</td>\n",
       "      <td>157.28</td>\n",
       "      <td>172.0</td>\n",
       "    </tr>\n",
       "    <tr>\n",
       "      <th>3</th>\n",
       "      <td>2014-01-07</td>\n",
       "      <td>157.28</td>\n",
       "      <td>172.0</td>\n",
       "    </tr>\n",
       "    <tr>\n",
       "      <th>4</th>\n",
       "      <td>2014-01-08</td>\n",
       "      <td>157.28</td>\n",
       "      <td>172.0</td>\n",
       "    </tr>\n",
       "  </tbody>\n",
       "</table>\n",
       "</div>"
      ],
      "text/plain": [
       "         date  nominal    bdc\n",
       "0  2014-01-02   157.26  172.0\n",
       "1  2014-01-03   157.26  172.0\n",
       "2  2014-01-06   157.28  172.0\n",
       "3  2014-01-07   157.28  172.0\n",
       "4  2014-01-08   157.28  172.0"
      ]
     },
     "execution_count": 84,
     "metadata": {},
     "output_type": "execute_result"
    }
   ],
   "source": [
    "#renaming columns\n",
    "bdc_rates.rename(columns = {'Unnamed: 0': 'date', 'BDC': 'bdc'}, inplace = True)\n",
    "bdc_rates.head()"
   ]
  },
  {
   "cell_type": "code",
   "execution_count": 85,
   "id": "9710c599",
   "metadata": {},
   "outputs": [],
   "source": [
    "#changing index to datetime format\n",
    "bdc_rates.date = pd.to_datetime(bdc_rates.date)\n",
    "bdc_rates.set_index('date', inplace = True)"
   ]
  },
  {
   "cell_type": "markdown",
   "id": "0b591e85",
   "metadata": {},
   "source": [
    "### Saving cleaned data as csv files"
   ]
  },
  {
   "cell_type": "code",
   "execution_count": 86,
   "id": "eaff0f7d",
   "metadata": {},
   "outputs": [],
   "source": [
    "naira_tweets.to_csv('data/naira_tweets_cleaned.csv')\n",
    "bdc_rates.to_csv('data/bdc_rates_cleaned.csv')"
   ]
  }
 ],
 "metadata": {
  "kernelspec": {
   "display_name": "Python 3",
   "language": "python",
   "name": "python3"
  },
  "language_info": {
   "codemirror_mode": {
    "name": "ipython",
    "version": 3
   },
   "file_extension": ".py",
   "mimetype": "text/x-python",
   "name": "python",
   "nbconvert_exporter": "python",
   "pygments_lexer": "ipython3",
   "version": "3.8.8"
  }
 },
 "nbformat": 4,
 "nbformat_minor": 5
}
